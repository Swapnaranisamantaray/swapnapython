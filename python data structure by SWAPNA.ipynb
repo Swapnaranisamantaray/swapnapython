{
 "cells": [
  {
   "cell_type": "markdown",
   "id": "0074c152-6ef3-4144-a74c-5f3b01c26bf2",
   "metadata": {},
   "source": [
    "## Data types and structure questions"
   ]
  },
  {
   "cell_type": "markdown",
   "id": "42fd9424-311d-459b-ba97-7fc2c3f747c5",
   "metadata": {},
   "source": [
    "# Question 1. what are data structure , and why are they important?\n",
    "\n",
    "Ans: In python, data structure are built in tools that help you store, organise, and manipulate data efficiently. they are crucial for writing clean, fast, and effective code.\n",
    "1. list- ordered, changable, allows duplicate\n",
    "2. Tuple - ordered, unchangeable, allows duplicate\n",
    "3. set - unordered, no duplicate\n",
    "4. dictionary - key-value pairs, onordered, fast lookups\n",
    "\n",
    "\n",
    "importance: efficient data handling\n",
    "            real world modeling\n",
    "            memory management\n",
    "            supports algorithms"
   ]
  },
  {
   "cell_type": "markdown",
   "id": "282d8b7a-82b5-426c-80ac-1c742f6f15fe",
   "metadata": {},
   "source": [
    "# Question 2. Explain the difference between mutable and immutable data types with examples?\n",
    "\n",
    "Ans:\n",
    "            mutable- can be changed after they created\n",
    "examples - list,dictinary, set\n",
    "we can update, delete, or add elements without creating a new object\n",
    "\n",
    "            immutable -cannot be changed after they created\n",
    "            ex- tuple, string, integer, float etc\n",
    "            if you want to change them you actually create a new object\n",
    "\n"
   ]
  },
  {
   "cell_type": "markdown",
   "id": "1e1a8217-6ce3-49a0-bf0f-7b0bc24f8b9a",
   "metadata": {},
   "source": [
    "# Question 3. what are the main difference between lists and tuples in python?\n",
    "\n",
    "Ans:list and tuples are both used to store collections of items in python, but they have some key difference:\n",
    "\n",
    "            list                                                                           tuples\n",
    "            mutable                                                                        immutable\n",
    "            square bracket[]                                                               round bracket()\n",
    "performance is lower more flexible                                                         faster, its fixed\n",
    "many built-in methods, append(),remove() etc                                               fewer built in methods\n",
    "use ehen data may change                                                                   use when data should not change\n"
   ]
  },
  {
   "cell_type": "markdown",
   "id": "8415b91f-4e93-4db9-b864-1024ebb04efa",
   "metadata": {},
   "source": [
    "# Question 4. describe how dictionaries store data?\n",
    "\n",
    "Ans: A dictionary in python is a collection of key-value pairs . it stores data so you can easily look it up by using key.\n",
    "example: my_dict={\"name\":\"swapna\",\"age\":32}\n",
    "\n",
    "here 'name' and 'age' is key and 'swapna' and 32 are value\n",
    "keys must be unique and immutable like str, tuples\n",
    "values can be any datatypes - string,list, another dictionary "
   ]
  },
  {
   "cell_type": "markdown",
   "id": "054b0ce7-7a0f-429d-8df4-aefad4ab65d3",
   "metadata": {},
   "source": [
    "# Question 5. why might you use a set instead of a list in python?\n",
    "\n",
    "Ans: Use of a set insted of a list in python when we want to store unique items only and don't care about order.\n",
    "\n",
    "set                                                                list\n",
    "duplicates- not allowed                                            allowed\n",
    "order- unordered                                                   ordered\n",
    "speed - faster membership test                                     slower scan item by item\n",
    "use - great for unique values, quick lookups                       great for ordered data and duplicates\n",
    "\n",
    "when we need to remove duplicates,quick check of items and order does not matter we use set"
   ]
  },
  {
   "cell_type": "markdown",
   "id": "2cf621cd-2bd5-4c4b-a1d6-c6bb4ef97e8b",
   "metadata": {},
   "source": [
    "# Question 6. what is a string in python and how is it different from a list?\n",
    "\n",
    "Ans: A string is a sequence of characters enclosed in quotes like single('), double(\") , or triple('''or \"\"\"). each character in a string is indexed like a list\n",
    "\n",
    "s1=\"hello\"\n",
    "print (s1[0])\n",
    "#output:h\n",
    "\n",
    "difference:\n",
    "\n",
    "string                                                              list\n",
    "only character(text)                                                any data type (numbers, strings etc)\n",
    "immutable-can not be changed                                        mutable can be changed\n",
    "quotes \"hello\"                                                      square bracket [1,2,3]\n",
    "text data                                                           collection of items\n",
    "\n",
    "we use string when working with text\n",
    "\n",
    "we use list when you need a flexible, editable collection of any data types"
   ]
  },
  {
   "cell_type": "markdown",
   "id": "e9496912-8433-4e08-be22-5ebce536d6a5",
   "metadata": {},
   "source": [
    "# Question 7. how do tuples ensure data integrity in python?\n",
    "\n",
    "Ans: Data integrity means making sure data stays unchanged accurate, and safe from unwanted modifications\n",
    "\n",
    "1. tuples are immutable - ci can not changed no adding, removing or modifying elements, this protects the data from accidental changes in your code\n",
    "2. safe to use as keys in dictionaries or elements in sets- becuse tuples are immutable python allows them to used as keys in dictionaries - something\n",
    "lists cin't do\n",
    "3. useful for multi-threaed environments - prevent data corruption\n",
    "4. help prevent bugs-data would not change which leads to more predictable and reliable code"
   ]
  },
  {
   "cell_type": "markdown",
   "id": "dc3871c2-a6cd-476c-8517-3d707f8d73e7",
   "metadata": {},
   "source": [
    "# Question 8. what  is hash table, and how does it relate to dictionaries in python?\n",
    "\n",
    "Ans: A hash table is a data structure that stores data in key-vale pairs , using a technique called hashing .\n",
    "it uses a hash function to convert the key(like \"name\") into a unique index (a number).\n",
    "that index decide where to store the value in memory-making lookup very fast.\n",
    "\n",
    "\n",
    "d1={'name':'swapna','age':32,'aim':'python'}\n",
    "d1['name']\n",
    "'swapna'\n",
    "here python runs a hash function on 'name' to get a number\n",
    "that number points to a memory location to get a number where 'swapna'is stored\n",
    "so if you search for 'name' pythonhashes it again and jumps straight to that memory spot-no need to search line by line like in a list\n",
    "using hash table to fast access ,unique keys and flexible values"
   ]
  },
  {
   "cell_type": "markdown",
   "id": "150a1a02-d02f-4553-bd79-0da4c800a063",
   "metadata": {},
   "source": [
    "# Question 9. can list contain different data types in python?\n",
    "\n",
    "Ans: A list in ython contain different data types, thats one of the powerful features of python lists\n",
    "\n",
    "\n",
    "mylist1=[32,'swapna',3.14,True,[1,2],{'age':32}]\n",
    "\n",
    "here 32 - integer\n",
    "'swapna' - string\n",
    "3.14 - float\n",
    "True-boolean\n",
    "[1,2] - another list\n",
    "{'age':32} - dictionary\n",
    "\n",
    "python list are flexible becuse they are heterogenous can store mixed types , unlike in some other programming languages like java or c\n"
   ]
  },
  {
   "cell_type": "markdown",
   "id": "faa4085c-fe1b-4e9b-9cb3-1b33bd8dba4f",
   "metadata": {},
   "source": [
    "# Question 10. explain why strings are immutable in python?\n",
    "\n",
    "Ans: strings immutable in python meaning once created it connot be changed.\n",
    "\n",
    "1. python stores strings in a way that reuses memory. if strings were mutable, each change would require checking and updating every reference to that\n",
    "string , which would be slow and error prone\n",
    "\n",
    "2. hashing and dictionary keys- strings are often used as keys in dictionaries, which require them to be hashable. only immutable objects can have a consistent hash value, which is necessary for last lookups\n",
    "\n",
    "3. safe sharing - when strings are immutable, multiple parts of a programm canuse the same string without worrying that it will change unexpectedly somewhere else in the code\n",
    "\n",
    "4. example-\n",
    "\n",
    "   \n",
    "s=\"hello\"\n",
    "s[0]=\"H\"\n",
    "--------------------------------------------------------------------------\n",
    "TypeError                                 Traceback (most recent call last)\n",
    "Cell In[28], line 1\n",
    "----> 1 s[0]=\"H\"\n",
    "\n",
    "TypeError: 'str' object does not support item assignment\n",
    "\n",
    "if you want to modified string\n",
    "s=\"H\"+s[1:]\n",
    "s\n",
    "'Hello'"
   ]
  },
  {
   "cell_type": "markdown",
   "id": "c77a7c58-ef52-4065-99f7-6aad94a58fe8",
   "metadata": {},
   "source": [
    "# Question 11. what advantages do dictionries offer over lists for certain tasks?\n",
    "\n",
    "Ans: dictionaries and lists are both useful in python, but they serve different purposes.key advantages dictionaries offer over lists for certain tasks\n",
    "\n",
    "1. faster lookup- in dictionaries acessing a value by key is very faster time\n",
    "2. list - serching for an item or index can take longer time\n",
    "3. example- grain are rice and pulse and 10,13 are no of bags\n",
    " in dict-  \n",
    "d1={'rice':10,'pulse':13}\n",
    "print (d1['rice'])\n",
    "10\n",
    "\n",
    "in list-\n",
    "l1=[('rice',10),('pulse',13)]\n",
    "(l1[0][0])\n",
    "'rice'\n",
    "(l1[0][1])\n",
    "10\n",
    "\n"
   ]
  },
  {
   "cell_type": "markdown",
   "id": "cacc52b0-cce3-44bd-831b-d48b574f2c33",
   "metadata": {},
   "source": [
    "# Question 12. describe a scenario where using a tuple would be preferable over list?\n",
    "\n",
    "Ans: A tuple is preferable over a list when you want to store a collection of items should not change\n",
    "\n",
    "for example in automobile industry in a particular company chasis no of vehicles are separate from each other\n",
    "\n",
    "chasis=(wx5443f,fd4333x)\n",
    "\n",
    "it use becuse one chasis no are given to two different customer\n",
    "tuples are more memory efficient than list\n",
    "tuples can be used as dictionary keys ,unlike lists\n",
    "\n"
   ]
  },
  {
   "cell_type": "markdown",
   "id": "a5586203-1ec3-4846-aa55-c6af347533b2",
   "metadata": {},
   "source": [
    "# Question 13. how do sets handle duplicates values in python?\n",
    "\n",
    "Ans: in python, sets automatically remove duplicate values \n",
    "for example\n",
    "\n",
    "set1={1,2,3,3,4,4,4,5,5,6,6,7}\n",
    "print (set1)\n",
    "{1, 2, 3, 4, 5, 6, 7}\n",
    "\n",
    "a set can stores unique values, if duplicates are added ,python keeps just one copy\n",
    "\n",
    "this makes sets very useful for removing duplicates "
   ]
  },
  {
   "cell_type": "markdown",
   "id": "67026f7c-0b55-4ef7-8647-3fbc393b0fb1",
   "metadata": {},
   "source": [
    "# Question 14. how does the 'in' keyword work differently for lists and dictionaries?\n",
    "\n",
    "Ans:'in' keyword is used to check membership, but it behaves slightly differently depending on the data type\n",
    "\n",
    "for list: the 'in' keyword checks if a value is present in the list\n",
    "l1=[10,20,30,40,60]\n",
    "print (20 in l1)\n",
    "True\n",
    "print (50 in l1)\n",
    "False\n",
    "\n",
    "\n",
    "for dictionaries:\n",
    "\n",
    "d1={'a':10,'b':20}\n",
    "print ('a' in d1) here 'a' is a key\n",
    "True\n",
    "print (10 in d1) here 10 is a value\n",
    "False\n",
    "10 in d1.values() if you want to check value in a dictionary\n",
    "True"
   ]
  },
  {
   "cell_type": "markdown",
   "id": "cde476c6-2f98-425c-aa7b-b55b1353afb8",
   "metadata": {},
   "source": [
    "# Question 15. can you modify the elements of a tuple? explain why or why not?\n",
    "\n",
    "Ans:No, we cannot modify the elements of a tuple in python.this is becuse tuples are immutable, meaning once created their elements cannot\n",
    "be changed ,added or removed\n",
    "\n",
    "for example \n",
    "t1=(2,3,5,7)\n",
    "t1[1]=10\n",
    "---------------------------------------------------------------------------\n",
    "TypeError                                 Traceback (most recent call last)\n",
    "Cell In[77], line 1\n",
    "----> 1 t1[1]=10\n",
    "\n",
    "TypeError: 'tuple' object does not support item assignment\n",
    "\n",
    "why? tuples are designed to be unchangeable , which makes them faster than list, hashable, sothey can be used as dictionaries\n",
    "it is safe ,especially for fixed collections like cordinates or dates\n",
    "however, if a tuple contains  mutable object like list inside a tuple that object can be modified"
   ]
  },
  {
   "cell_type": "markdown",
   "id": "eb0df36b-a3c5-4103-ae63-8864516a907a",
   "metadata": {},
   "source": [
    "# Question 16.what is a nested dictionary,and give an examples of its use case?\n",
    "\n",
    "Ans: A nested dictionary is a dictionary where one or more values are themselves dictionaries. it's a great way to represent structured data like objects within objects\n",
    "for example d1 is a student profile\n",
    "\n",
    "d1={'name':'swapna','age':32,'marks':{'math':88,'english':93}}\n",
    "here value of marks is another dictionary\n",
    "nested dictionary are useful when dealing with complex data like students records,  employee databases, json data from APIs, configuration files\n",
    "\n",
    "if we acess the nested value\n",
    "d1['marks']['math']\n",
    "88"
   ]
  },
  {
   "cell_type": "markdown",
   "id": "6da5366e-8d3c-4bac-a89e-aff0dc352193",
   "metadata": {},
   "source": [
    "# Question 17.describe the time complexity of acessing elements in a dictionary?\n",
    "\n",
    "Ans: acessing elements in a python dictionary is generally time complexity- meaning its very fast and constant tiome ,regard less of the size of the dictionary\n",
    "\n",
    "dictionary use a hash table under the hood . when you acess a value using a key,python: \n",
    "1.compute the hash of the key\n",
    "2. uses it to find the index where the value is stored \n",
    "3. rtrives the value directly - no need to search through all keys\n",
    "\n",
    "d1={'name': 'swapna', 'age': 32, 'marks': {'math': 88, 'english': 93}}\n",
    "(d1['name'])\n",
    "'swapna'\n"
   ]
  },
  {
   "cell_type": "markdown",
   "id": "c6738248-4dac-4696-8eba-f4723b1e7f56",
   "metadata": {},
   "source": [
    "# Question 18.in what situations are lists prefered over dictionaries?\n",
    "\n",
    "Ans: \n",
    "lists are prefered over dictionaries \n",
    "1. when you need ordered data- lists maintain the order of elements, use lists when position/index matters like 3rd item in a sequence\n",
    "fruits=['apple','banana','mango']\n",
    "2. when you are working with simple collections -you just need to store a bunch of values without labels or keys for example names of students ,lists of numbers\n",
    "3. you dont need key- value pairs -dictionaries are best when you need to map a key to a value\n",
    "4. if you dont need that a list is simpler and more efficient\n",
    "5. if you need to iterate in order"
   ]
  },
  {
   "cell_type": "markdown",
   "id": "d0c5dde6-586c-47e1-baf5-092352ef5226",
   "metadata": {},
   "source": [
    "# Question 19.why are dictionaries considered unordered, and how does that affect data retrieval?\n",
    "Ans: originally dictionaries were considered unordered becuse they didnot preserve the order in which items were added .before python 3.7\n",
    ",the insertion order of key-value pairs was not guranteed.\n",
    "but now starting from python 3.7+ dictionaries do preserve insertion order by default\n",
    "\n",
    "dictionaries are built on hash tables , and hashes dont inherently care about order\n",
    "even thouth pyhton now rembers the order, dictionary operations are still based on key hashing, not position/ index like lists"
   ]
  },
  {
   "cell_type": "markdown",
   "id": "3862ca53-c924-402b-8b42-276ee417822c",
   "metadata": {},
   "source": [
    "# Question 20. explain the difference between a list and a dictionary in terms of data retrival?\n",
    "Ans: here a clear comparison between lists and dictionaries when it comes to data retrival\n",
    "\n",
    "list : retrival by index position\n",
    "\n",
    "l1=[1,2,3,4,5]\n",
    "print (l1[1])\n",
    "2\n",
    "\n",
    "dictionary : retrival by key\n",
    "d1={'name': 'swapna', 'age': 32, 'marks': {'math': 88, 'english': 93}}\n",
    "(d1['name'])\n",
    "'swapna'"
   ]
  },
  {
   "cell_type": "code",
   "execution_count": null,
   "id": "d35578be-f44f-4a23-86fa-69a69324d8f2",
   "metadata": {},
   "outputs": [],
   "source": [
    "########################################################"
   ]
  },
  {
   "cell_type": "markdown",
   "id": "fb6c9739-4762-4f04-975d-86b2c43a7f91",
   "metadata": {},
   "source": [
    "PRACTICAL QUESTIONS"
   ]
  },
  {
   "cell_type": "markdown",
   "id": "69492f02-a0c4-432d-9a95-b18d663d48e4",
   "metadata": {},
   "source": [
    "# Questions 1. write a code to create a string with your name and print it?"
   ]
  },
  {
   "cell_type": "code",
   "execution_count": 1,
   "id": "39184fe7-5311-4c5c-9c05-6882053b3fc6",
   "metadata": {},
   "outputs": [],
   "source": [
    "myname='swapna'"
   ]
  },
  {
   "cell_type": "code",
   "execution_count": 2,
   "id": "b1d98043-718a-4776-91d0-82b12fe36292",
   "metadata": {},
   "outputs": [
    {
     "name": "stdout",
     "output_type": "stream",
     "text": [
      "swapna\n"
     ]
    }
   ],
   "source": [
    "print(myname)"
   ]
  },
  {
   "cell_type": "markdown",
   "id": "7d2cbd01-5391-4163-8dde-672ee9ad0b51",
   "metadata": {},
   "source": [
    " # Question 2. write a code to find the length of the string \"hello World\"?"
   ]
  },
  {
   "cell_type": "code",
   "execution_count": 92,
   "id": "d8048889-186f-4851-b8a1-efc7cacef197",
   "metadata": {},
   "outputs": [],
   "source": [
    "s1=\"Hello World\""
   ]
  },
  {
   "cell_type": "code",
   "execution_count": 93,
   "id": "a73e64b9-f3b8-45c2-a680-65c579f9fac2",
   "metadata": {},
   "outputs": [
    {
     "data": {
      "text/plain": [
       "11"
      ]
     },
     "execution_count": 93,
     "metadata": {},
     "output_type": "execute_result"
    }
   ],
   "source": [
    "len (s1)"
   ]
  },
  {
   "cell_type": "markdown",
   "id": "ed6aa7f0-0417-4069-9a8e-0c0f90f43179",
   "metadata": {},
   "source": [
    "# Question 3. write a code to slice the first 3 characters from the string \"python programming\"?"
   ]
  },
  {
   "cell_type": "code",
   "execution_count": 94,
   "id": "ae46ee2d-0eed-4bd3-8a85-36147249c5cf",
   "metadata": {},
   "outputs": [],
   "source": [
    "s1=\"python programming\""
   ]
  },
  {
   "cell_type": "code",
   "execution_count": 100,
   "id": "752ba30e-72d3-4e6b-b544-a3d4ba4c438c",
   "metadata": {},
   "outputs": [],
   "source": [
    "slice_s1=s1[:3]"
   ]
  },
  {
   "cell_type": "code",
   "execution_count": 103,
   "id": "a37c5770-9080-4dd5-bc86-3d1d129373d7",
   "metadata": {},
   "outputs": [
    {
     "name": "stdout",
     "output_type": "stream",
     "text": [
      "pyt\n"
     ]
    }
   ],
   "source": [
    "print (slice_s1)"
   ]
  },
  {
   "cell_type": "markdown",
   "id": "a44ed7f4-d9fb-456a-a665-e183438669a4",
   "metadata": {},
   "source": [
    "# Question 4. write a code to convert the string \"hello\" to uppercase?"
   ]
  },
  {
   "cell_type": "code",
   "execution_count": 104,
   "id": "6381a454-ba6a-4fd4-a8da-032f35e7db4a",
   "metadata": {},
   "outputs": [],
   "source": [
    "s1=\"hello\""
   ]
  },
  {
   "cell_type": "code",
   "execution_count": 105,
   "id": "8261f8a9-b8c7-419f-8d1f-fdb1a1b4f9d1",
   "metadata": {},
   "outputs": [],
   "source": [
    "s1=s1.upper()"
   ]
  },
  {
   "cell_type": "code",
   "execution_count": 107,
   "id": "9631d2ca-582f-493e-9d83-1eb48f83a86a",
   "metadata": {},
   "outputs": [
    {
     "name": "stdout",
     "output_type": "stream",
     "text": [
      "HELLO\n"
     ]
    }
   ],
   "source": [
    "print(s1)"
   ]
  },
  {
   "cell_type": "markdown",
   "id": "9e2d49ea-505a-4239-80c3-dbdb4b0f307d",
   "metadata": {},
   "source": [
    "# Question 5. write a code to replace the word 'apple' with 'orange' in the string 'i like apple'?"
   ]
  },
  {
   "cell_type": "code",
   "execution_count": 108,
   "id": "c8a87e1a-8e4d-479d-9d67-028251ccc006",
   "metadata": {},
   "outputs": [],
   "source": [
    "s1=\"i like apple\""
   ]
  },
  {
   "cell_type": "code",
   "execution_count": 110,
   "id": "33357919-5bc5-4f4c-b84f-dab684de2f20",
   "metadata": {},
   "outputs": [
    {
     "data": {
      "text/plain": [
       "'i like orange'"
      ]
     },
     "execution_count": 110,
     "metadata": {},
     "output_type": "execute_result"
    }
   ],
   "source": [
    "s1.replace('apple','orange')"
   ]
  },
  {
   "cell_type": "markdown",
   "id": "1e3d80e9-27ea-4ff7-96b7-193067b3ec49",
   "metadata": {},
   "source": [
    "# Question 6. write a code to creat a list with numbers 1 to 5 and print it?"
   ]
  },
  {
   "cell_type": "code",
   "execution_count": 111,
   "id": "f1bee5b3-f533-46af-86e2-d1327a2d5fd3",
   "metadata": {},
   "outputs": [],
   "source": [
    "l1=[1,2,3,4,5]"
   ]
  },
  {
   "cell_type": "code",
   "execution_count": 112,
   "id": "d8db83fd-ed5b-4e50-a863-8b0221c98d3d",
   "metadata": {},
   "outputs": [
    {
     "name": "stdout",
     "output_type": "stream",
     "text": [
      "[1, 2, 3, 4, 5]\n"
     ]
    }
   ],
   "source": [
    "print (l1)"
   ]
  },
  {
   "cell_type": "markdown",
   "id": "f4814131-bbf0-4735-9c94-78707ee5f8bc",
   "metadata": {},
   "source": [
    "# Question 7. write a code to append the number 10 to the list [1,2,3,4]?"
   ]
  },
  {
   "cell_type": "code",
   "execution_count": 113,
   "id": "c490d3af-e46e-4a2c-b0cc-46c9ee705403",
   "metadata": {},
   "outputs": [],
   "source": [
    "l1=[1,2,3,4]"
   ]
  },
  {
   "cell_type": "code",
   "execution_count": 114,
   "id": "8dbd29a2-2b17-4a11-9c13-2c2bfa4f8d59",
   "metadata": {},
   "outputs": [],
   "source": [
    "l1.append(10)"
   ]
  },
  {
   "cell_type": "code",
   "execution_count": 115,
   "id": "f069c3c6-1e64-49ef-bd49-fe8206fbf070",
   "metadata": {},
   "outputs": [
    {
     "name": "stdout",
     "output_type": "stream",
     "text": [
      "[1, 2, 3, 4, 10]\n"
     ]
    }
   ],
   "source": [
    "print(l1)"
   ]
  },
  {
   "cell_type": "markdown",
   "id": "ae64cc41-2e74-43d3-a648-82801c85f9c8",
   "metadata": {},
   "source": [
    "# Question 8. write a code to remove number 3 from the list [1,2,3,4,5]?"
   ]
  },
  {
   "cell_type": "code",
   "execution_count": 116,
   "id": "c8e7dbf5-95a5-4107-a1fe-2ce5c5a1f387",
   "metadata": {},
   "outputs": [],
   "source": [
    "l1=[1,2,3,4,5]"
   ]
  },
  {
   "cell_type": "code",
   "execution_count": 117,
   "id": "10fd1ac0-0408-427a-b283-3b42b97926d5",
   "metadata": {},
   "outputs": [],
   "source": [
    "l1.remove(3)"
   ]
  },
  {
   "cell_type": "code",
   "execution_count": 118,
   "id": "eae93cdf-1bb6-4b47-804f-6d888feaca3a",
   "metadata": {},
   "outputs": [
    {
     "name": "stdout",
     "output_type": "stream",
     "text": [
      "[1, 2, 4, 5]\n"
     ]
    }
   ],
   "source": [
    "print (l1)"
   ]
  },
  {
   "cell_type": "markdown",
   "id": "edfb44d8-4964-4a65-83a4-91abcca5efd0",
   "metadata": {},
   "source": [
    "# Question 9.write a code to acess the second element in the list ['a','b','c','d']?"
   ]
  },
  {
   "cell_type": "code",
   "execution_count": 119,
   "id": "6ba80c08-09dc-485a-b7bf-0cd028e7b95f",
   "metadata": {},
   "outputs": [],
   "source": [
    "l1=['a','b','c','d']"
   ]
  },
  {
   "cell_type": "code",
   "execution_count": 121,
   "id": "dd80c84a-a0d3-4acc-b06d-29057d3b2c30",
   "metadata": {},
   "outputs": [
    {
     "name": "stdout",
     "output_type": "stream",
     "text": [
      "b\n"
     ]
    }
   ],
   "source": [
    "print (l1[1])"
   ]
  },
  {
   "cell_type": "markdown",
   "id": "bf98923c-2ceb-46c0-8208-2ed129e407d1",
   "metadata": {},
   "source": [
    "# Question 10. write a code to reverse the list [10,20,30,40,50]?"
   ]
  },
  {
   "cell_type": "code",
   "execution_count": 123,
   "id": "83945c49-9926-4ad7-9943-d20d360ad271",
   "metadata": {},
   "outputs": [],
   "source": [
    "l1=[10,20,30,40,50]"
   ]
  },
  {
   "cell_type": "code",
   "execution_count": 127,
   "id": "bee5cdca-a75b-4119-99f5-02fc22cde86e",
   "metadata": {},
   "outputs": [],
   "source": [
    "l1.reverse()"
   ]
  },
  {
   "cell_type": "code",
   "execution_count": 128,
   "id": "ead03ae6-f2b5-4161-8fed-a751d431cd23",
   "metadata": {},
   "outputs": [
    {
     "name": "stdout",
     "output_type": "stream",
     "text": [
      "[10, 20, 30, 40, 50]\n"
     ]
    }
   ],
   "source": [
    "print(l1)"
   ]
  },
  {
   "cell_type": "markdown",
   "id": "6597d52b-b951-47fc-8737-16c67a4c3fe6",
   "metadata": {},
   "source": [
    "# Question 11. write a code to create a tuple with the elements 100,200, 300 and print it?"
   ]
  },
  {
   "cell_type": "code",
   "execution_count": 129,
   "id": "b40886de-6cf6-4198-86ed-c6fbb536b09a",
   "metadata": {},
   "outputs": [],
   "source": [
    "t1=(100,200,300)"
   ]
  },
  {
   "cell_type": "code",
   "execution_count": 130,
   "id": "8f71e0ed-acb2-48c9-a190-45617bbaa777",
   "metadata": {},
   "outputs": [
    {
     "name": "stdout",
     "output_type": "stream",
     "text": [
      "(100, 200, 300)\n"
     ]
    }
   ],
   "source": [
    "print(t1)"
   ]
  },
  {
   "cell_type": "code",
   "execution_count": 131,
   "id": "146dad49-978f-48fc-9487-ce5a0d67e347",
   "metadata": {},
   "outputs": [
    {
     "data": {
      "text/plain": [
       "tuple"
      ]
     },
     "execution_count": 131,
     "metadata": {},
     "output_type": "execute_result"
    }
   ],
   "source": [
    "type(t1)"
   ]
  },
  {
   "cell_type": "markdown",
   "id": "d438fbac-2340-4f0a-8776-a8bd84bb6c22",
   "metadata": {},
   "source": [
    "# Question 12.write a code to access the second-to-the last element of the tuple ('red','green','blue','yellow')?"
   ]
  },
  {
   "cell_type": "code",
   "execution_count": 132,
   "id": "7406a541-e7c2-40d4-bd0e-323c16298104",
   "metadata": {},
   "outputs": [],
   "source": [
    "t1=('red','green','blue','yellow')"
   ]
  },
  {
   "cell_type": "code",
   "execution_count": 135,
   "id": "758d6747-63e7-4935-a0f8-a845e31b8cb1",
   "metadata": {},
   "outputs": [
    {
     "name": "stdout",
     "output_type": "stream",
     "text": [
      "blue\n"
     ]
    }
   ],
   "source": [
    "print (t1[2])"
   ]
  },
  {
   "cell_type": "markdown",
   "id": "b75f4cd9-6aff-4c63-bc26-dce9ca2c2c94",
   "metadata": {},
   "source": [
    "# Question 13. write a code to find the minimum number in the tuple (10,20,5,15)."
   ]
  },
  {
   "cell_type": "code",
   "execution_count": 136,
   "id": "cb106f1d-f585-4b15-8027-b7b7701c1d21",
   "metadata": {},
   "outputs": [],
   "source": [
    "t1=(10,20,5,15)"
   ]
  },
  {
   "cell_type": "code",
   "execution_count": 141,
   "id": "3a7806d2-c979-4d87-90ae-c8e39eb3e00c",
   "metadata": {},
   "outputs": [
    {
     "data": {
      "text/plain": [
       "5"
      ]
     },
     "execution_count": 141,
     "metadata": {},
     "output_type": "execute_result"
    }
   ],
   "source": [
    "min (t1)"
   ]
  },
  {
   "cell_type": "markdown",
   "id": "cbe788fe-b4d7-4abd-bc29-bef169f65c27",
   "metadata": {},
   "source": [
    "# Question 14. write a code to find index of the element 'cat' in the tuple ('dog','cat','rabbit')?"
   ]
  },
  {
   "cell_type": "code",
   "execution_count": 142,
   "id": "50017b6a-60f2-4f8e-a664-d10888c6a565",
   "metadata": {},
   "outputs": [],
   "source": [
    "t1=('dog','cat','rabbit')"
   ]
  },
  {
   "cell_type": "code",
   "execution_count": 143,
   "id": "ad53aeb6-1f9e-4cff-97de-720ab5dade47",
   "metadata": {},
   "outputs": [
    {
     "data": {
      "text/plain": [
       "1"
      ]
     },
     "execution_count": 143,
     "metadata": {},
     "output_type": "execute_result"
    }
   ],
   "source": [
    "t1.index('cat')"
   ]
  },
  {
   "cell_type": "markdown",
   "id": "2e210bae-f76e-4013-a175-671208bb7939",
   "metadata": {},
   "source": [
    "# Question 15. write a code to create a tuple containing three different fruits and check if 'kiwi' is in it?"
   ]
  },
  {
   "cell_type": "code",
   "execution_count": 144,
   "id": "cb84fd51-e982-4733-b9fe-1470fd5147fe",
   "metadata": {},
   "outputs": [],
   "source": [
    "t1=('apple','banana','kiwi')"
   ]
  },
  {
   "cell_type": "code",
   "execution_count": 145,
   "id": "25bf0c2a-35ab-4a22-95ce-52255bac529a",
   "metadata": {},
   "outputs": [
    {
     "name": "stdout",
     "output_type": "stream",
     "text": [
      "True\n"
     ]
    }
   ],
   "source": [
    "if 'kiwi' in t1:\n",
    "    print(True)\n",
    "else:\n",
    "    print(False)"
   ]
  },
  {
   "cell_type": "markdown",
   "id": "cf673178-cebc-4951-86b1-12452ea184ae",
   "metadata": {},
   "source": [
    "# Question 16. write a code to create a set with the elements 'a',;b','c' and print it?"
   ]
  },
  {
   "cell_type": "code",
   "execution_count": 148,
   "id": "33c3d89c-eb56-44c1-8c2e-b1ed98c845cd",
   "metadata": {},
   "outputs": [],
   "source": [
    "set1={'a','b','c'}"
   ]
  },
  {
   "cell_type": "code",
   "execution_count": 149,
   "id": "3c18ba04-0a9e-4e52-b416-2d23fb38b446",
   "metadata": {},
   "outputs": [
    {
     "name": "stdout",
     "output_type": "stream",
     "text": [
      "{'c', 'b', 'a'}\n"
     ]
    }
   ],
   "source": [
    "print (set1)"
   ]
  },
  {
   "cell_type": "markdown",
   "id": "3c61375f-79d1-45ef-87e3-4815906cef7d",
   "metadata": {},
   "source": [
    "# Question 17. write a code to clear all the elements from the sets {1,2,3,4,5}?"
   ]
  },
  {
   "cell_type": "code",
   "execution_count": 160,
   "id": "d9e2f8b8-d7e2-4821-a74a-a045ec73bc4b",
   "metadata": {},
   "outputs": [],
   "source": [
    "set1={1,2,3,4,5}"
   ]
  },
  {
   "cell_type": "code",
   "execution_count": 161,
   "id": "bbdaf216-71cd-4232-b0f1-434f3a4e51b5",
   "metadata": {},
   "outputs": [],
   "source": [
    "set1.clear()"
   ]
  },
  {
   "cell_type": "code",
   "execution_count": 162,
   "id": "5ba26b03-2f68-421c-afac-fc37cef1f656",
   "metadata": {},
   "outputs": [
    {
     "name": "stdout",
     "output_type": "stream",
     "text": [
      "set()\n"
     ]
    }
   ],
   "source": [
    "print (set1)"
   ]
  },
  {
   "cell_type": "markdown",
   "id": "cc39087d-569d-4ca7-9147-b5739f8d35e9",
   "metadata": {},
   "source": [
    "# Question 18.write a code to remove the element 4 from the set {1,2,3,4}?"
   ]
  },
  {
   "cell_type": "code",
   "execution_count": 163,
   "id": "3b9fd4a6-437c-469b-bef8-9ee8c1091f3f",
   "metadata": {},
   "outputs": [],
   "source": [
    "set1={1,2,3,4}"
   ]
  },
  {
   "cell_type": "code",
   "execution_count": 164,
   "id": "6e3cc3f4-3b57-4f05-909b-d48437436c5e",
   "metadata": {},
   "outputs": [],
   "source": [
    "set1.discard(4)"
   ]
  },
  {
   "cell_type": "code",
   "execution_count": 165,
   "id": "6ee437b7-a415-43a5-9f90-e22fb4bcf140",
   "metadata": {},
   "outputs": [
    {
     "name": "stdout",
     "output_type": "stream",
     "text": [
      "{1, 2, 3}\n"
     ]
    }
   ],
   "source": [
    "print (set1)"
   ]
  },
  {
   "cell_type": "markdown",
   "id": "182a2da3-21cf-4514-b3bc-f61597cde5a2",
   "metadata": {},
   "source": [
    "# Question 19. write a code to find the union of two sets {1,2,3} and {3,4,5}?"
   ]
  },
  {
   "cell_type": "code",
   "execution_count": 166,
   "id": "f901bdf3-9fc1-44df-bb60-76fede300500",
   "metadata": {},
   "outputs": [],
   "source": [
    "set1={1,2,3}\n",
    "set2={3,4,5}"
   ]
  },
  {
   "cell_type": "code",
   "execution_count": 167,
   "id": "2a41b0f5-5389-4a51-8864-1dd84458baef",
   "metadata": {},
   "outputs": [
    {
     "data": {
      "text/plain": [
       "{1, 2, 3, 4, 5}"
      ]
     },
     "execution_count": 167,
     "metadata": {},
     "output_type": "execute_result"
    }
   ],
   "source": [
    "set1|set2"
   ]
  },
  {
   "cell_type": "code",
   "execution_count": 168,
   "id": "5d7b5ff5-84a6-41ac-a54e-9f28a5a48e27",
   "metadata": {},
   "outputs": [
    {
     "data": {
      "text/plain": [
       "{1, 2, 3, 4, 5}"
      ]
     },
     "execution_count": 168,
     "metadata": {},
     "output_type": "execute_result"
    }
   ],
   "source": [
    "set1.union(set2)"
   ]
  },
  {
   "cell_type": "markdown",
   "id": "6322c54b-0819-4a1f-b12c-fdf2f73446d9",
   "metadata": {},
   "source": [
    "# Question 20. write a code to find the intersection of two sets {1,2,3} and {2,3,4}?"
   ]
  },
  {
   "cell_type": "code",
   "execution_count": 169,
   "id": "2ac8ed7d-af3b-4537-90ce-efc700d19cc8",
   "metadata": {},
   "outputs": [],
   "source": [
    "set1={1,2,3}\n",
    "set2={2,3,4}"
   ]
  },
  {
   "cell_type": "code",
   "execution_count": 170,
   "id": "1c4d2a7f-8316-4c08-83db-d924e2e66498",
   "metadata": {},
   "outputs": [
    {
     "data": {
      "text/plain": [
       "{2, 3}"
      ]
     },
     "execution_count": 170,
     "metadata": {},
     "output_type": "execute_result"
    }
   ],
   "source": [
    "set1&set2"
   ]
  },
  {
   "cell_type": "code",
   "execution_count": 171,
   "id": "ce1ca368-5d12-467e-90fb-106a83ea6604",
   "metadata": {},
   "outputs": [
    {
     "data": {
      "text/plain": [
       "{2, 3}"
      ]
     },
     "execution_count": 171,
     "metadata": {},
     "output_type": "execute_result"
    }
   ],
   "source": [
    "set1.intersection(set2)"
   ]
  },
  {
   "cell_type": "markdown",
   "id": "3a9225ca-f373-40d8-b85a-4c305c007c19",
   "metadata": {},
   "source": [
    "# Question 21. write a code to create a dictionary with the keys \"name\",\"age\" and \"city\" and print it?"
   ]
  },
  {
   "cell_type": "code",
   "execution_count": 3,
   "id": "4c98c588-b7cd-4757-b2ea-269eeefa67b8",
   "metadata": {},
   "outputs": [],
   "source": [
    "d1={\"name\":\"swapna\",\"age\":32,\"city\":\"bhubaneswar\"}"
   ]
  },
  {
   "cell_type": "code",
   "execution_count": 4,
   "id": "7384b8b6-84f8-477c-a7f2-0a5119c486bf",
   "metadata": {},
   "outputs": [
    {
     "name": "stdout",
     "output_type": "stream",
     "text": [
      "{'name': 'swapna', 'age': 32, 'city': 'bhubaneswar'}\n"
     ]
    }
   ],
   "source": [
    "print (d1)"
   ]
  },
  {
   "cell_type": "markdown",
   "id": "fb71d6ae-63b6-4ae0-b82c-b89fdb8339c2",
   "metadata": {},
   "source": [
    "# Question 22. write a code to add a new key-value pair \"country\":\"USA\" to the dictionary {'name':'john','age':25}?"
   ]
  },
  {
   "cell_type": "code",
   "execution_count": 174,
   "id": "bf4b2797-0bed-4c24-8318-d05a37b4f43a",
   "metadata": {},
   "outputs": [],
   "source": [
    "d2={'name':'john','age':25}"
   ]
  },
  {
   "cell_type": "code",
   "execution_count": 175,
   "id": "4565a327-0707-4813-9836-19f14bd5d567",
   "metadata": {},
   "outputs": [],
   "source": [
    "d2['country']='USA'"
   ]
  },
  {
   "cell_type": "code",
   "execution_count": 176,
   "id": "9638c1f8-132b-4153-9645-242335ceb97f",
   "metadata": {},
   "outputs": [
    {
     "name": "stdout",
     "output_type": "stream",
     "text": [
      "{'name': 'john', 'age': 25, 'country': 'USA'}\n"
     ]
    }
   ],
   "source": [
    "print (d2)"
   ]
  },
  {
   "cell_type": "markdown",
   "id": "47442c1e-e41a-4f87-8a70-32a44105e1bc",
   "metadata": {},
   "source": [
    "# Question 23. write down a code to access the value associated withthe key 'name'in the dictionary {'name':'Alice','age\":30}?"
   ]
  },
  {
   "cell_type": "code",
   "execution_count": 187,
   "id": "6f5d11ef-2990-49d6-a386-28e8fc71261a",
   "metadata": {},
   "outputs": [],
   "source": [
    "d3={'name':'Alice','age':30}"
   ]
  },
  {
   "cell_type": "code",
   "execution_count": 189,
   "id": "e9c64002-c314-4e58-8be9-754c9900d688",
   "metadata": {},
   "outputs": [
    {
     "name": "stdout",
     "output_type": "stream",
     "text": [
      "Alice\n"
     ]
    }
   ],
   "source": [
    "print(d3['name'])"
   ]
  },
  {
   "cell_type": "markdown",
   "id": "34595721-9ac4-4182-bdc6-27b7397a5dcc",
   "metadata": {},
   "source": [
    "# Question 24. write a code to remove the key 'age' from the dictionary{'name':'Bob','age':22,'city':New York'}?"
   ]
  },
  {
   "cell_type": "code",
   "execution_count": 191,
   "id": "20a0aa98-d06f-4891-8e7e-228622fb8ea0",
   "metadata": {},
   "outputs": [],
   "source": [
    "d1={'name':'Bob','age':22,'city':'New York'}"
   ]
  },
  {
   "cell_type": "code",
   "execution_count": 194,
   "id": "3ecfb8a6-4c7c-4c92-8a77-a8a7018864e3",
   "metadata": {},
   "outputs": [],
   "source": [
    "del d1['age']"
   ]
  },
  {
   "cell_type": "code",
   "execution_count": 195,
   "id": "ef34aa14-049b-4620-9945-b20b64242421",
   "metadata": {},
   "outputs": [
    {
     "name": "stdout",
     "output_type": "stream",
     "text": [
      "{'name': 'Bob', 'city': 'New York'}\n"
     ]
    }
   ],
   "source": [
    "print(d1)"
   ]
  },
  {
   "cell_type": "markdown",
   "id": "be114696-2a85-4a4d-983b-715267f44179",
   "metadata": {},
   "source": [
    "# Question 25. write a code to check if the key 'city' exists in the dictionary {'name':'Alice','city':'paris'}?"
   ]
  },
  {
   "cell_type": "code",
   "execution_count": 196,
   "id": "d1181a12-4086-4e83-8b15-9096837c568a",
   "metadata": {},
   "outputs": [],
   "source": [
    "d1={'name':'Alice','city':'paris'}"
   ]
  },
  {
   "cell_type": "code",
   "execution_count": 197,
   "id": "d442fedd-c318-4b3f-bbc0-74c3ee1c7ea3",
   "metadata": {},
   "outputs": [
    {
     "data": {
      "text/plain": [
       "True"
      ]
     },
     "execution_count": 197,
     "metadata": {},
     "output_type": "execute_result"
    }
   ],
   "source": [
    "'city' in d1"
   ]
  },
  {
   "cell_type": "markdown",
   "id": "30f95e6e-ea54-4770-a495-08ba259c5a65",
   "metadata": {},
   "source": [
    "# Question 26. write a code to create a list, a tuple, and a dictionary, and print them all?"
   ]
  },
  {
   "cell_type": "code",
   "execution_count": 198,
   "id": "b39e05e1-8594-49c0-b52a-3e10b11f629e",
   "metadata": {},
   "outputs": [],
   "source": [
    "l1=[1,2,3,4,5]"
   ]
  },
  {
   "cell_type": "code",
   "execution_count": 199,
   "id": "eb181431-6a3c-44e2-b0ff-490a24851dca",
   "metadata": {},
   "outputs": [
    {
     "data": {
      "text/plain": [
       "list"
      ]
     },
     "execution_count": 199,
     "metadata": {},
     "output_type": "execute_result"
    }
   ],
   "source": [
    "type(l1)"
   ]
  },
  {
   "cell_type": "code",
   "execution_count": 200,
   "id": "3af1a1c9-846a-4e48-a604-6ecfeaf85a9b",
   "metadata": {},
   "outputs": [],
   "source": [
    "t1=(1,2,3,4,5)"
   ]
  },
  {
   "cell_type": "code",
   "execution_count": 201,
   "id": "3d1d04d3-40a1-4e06-b23a-35dbf4f398b3",
   "metadata": {},
   "outputs": [
    {
     "data": {
      "text/plain": [
       "tuple"
      ]
     },
     "execution_count": 201,
     "metadata": {},
     "output_type": "execute_result"
    }
   ],
   "source": [
    "type(t1)"
   ]
  },
  {
   "cell_type": "code",
   "execution_count": 202,
   "id": "fe9baf98-3320-4c79-af84-252683d92390",
   "metadata": {},
   "outputs": [],
   "source": [
    "d1={'name':'Alex','city':'delhi'}"
   ]
  },
  {
   "cell_type": "code",
   "execution_count": 203,
   "id": "cd0198c6-4554-4260-94ba-7c71699affc6",
   "metadata": {},
   "outputs": [
    {
     "data": {
      "text/plain": [
       "dict"
      ]
     },
     "execution_count": 203,
     "metadata": {},
     "output_type": "execute_result"
    }
   ],
   "source": [
    "type(d1)"
   ]
  },
  {
   "cell_type": "code",
   "execution_count": 205,
   "id": "e3eb11f1-2067-4230-8bbc-325fc9047969",
   "metadata": {},
   "outputs": [
    {
     "name": "stdout",
     "output_type": "stream",
     "text": [
      "[1, 2, 3, 4, 5]\n"
     ]
    }
   ],
   "source": [
    "print(l1)"
   ]
  },
  {
   "cell_type": "code",
   "execution_count": 206,
   "id": "06fdd43f-34d0-422c-a2c1-2dd02b1629b9",
   "metadata": {},
   "outputs": [
    {
     "name": "stdout",
     "output_type": "stream",
     "text": [
      "(1, 2, 3, 4, 5)\n"
     ]
    }
   ],
   "source": [
    "print(t1)"
   ]
  },
  {
   "cell_type": "code",
   "execution_count": 207,
   "id": "a23b8610-b6c3-46f3-af37-8c72c86a7547",
   "metadata": {},
   "outputs": [
    {
     "name": "stdout",
     "output_type": "stream",
     "text": [
      "{'name': 'Alex', 'city': 'delhi'}\n"
     ]
    }
   ],
   "source": [
    "print(d1)"
   ]
  },
  {
   "cell_type": "markdown",
   "id": "b4aa37d4-f9a9-41df-ab0c-139e5870272b",
   "metadata": {},
   "source": [
    "# Question 27. write a code to create a list of 5 random numbers between 1 and 100 ,sort it in ascending order , and print the result .(replaced)"
   ]
  },
  {
   "cell_type": "code",
   "execution_count": 213,
   "id": "f2c146fc-0b92-4776-9292-c397d341bf17",
   "metadata": {},
   "outputs": [],
   "source": [
    "l1 =[5,13,45,89,19]"
   ]
  },
  {
   "cell_type": "code",
   "execution_count": 214,
   "id": "e2247acb-f3fd-45b2-b360-5e7c4aa9e025",
   "metadata": {},
   "outputs": [],
   "source": [
    "l1.sort()"
   ]
  },
  {
   "cell_type": "code",
   "execution_count": 215,
   "id": "8d4e8f4c-9bcd-4e30-8d0f-84a296289c0d",
   "metadata": {},
   "outputs": [
    {
     "name": "stdout",
     "output_type": "stream",
     "text": [
      "[5, 13, 19, 45, 89]\n"
     ]
    }
   ],
   "source": [
    "print (l1)"
   ]
  },
  {
   "cell_type": "markdown",
   "id": "4516774e-d3a0-4507-8cdf-2b2cd28e6fd2",
   "metadata": {},
   "source": [
    "# Question 28. write a code to creat a list with strings and print the element at the third index?"
   ]
  },
  {
   "cell_type": "code",
   "execution_count": 217,
   "id": "8e6f92dc-514d-4e83-83da-7c4d018b8842",
   "metadata": {},
   "outputs": [],
   "source": [
    "l2=['apple','banana','kiwi','cherry','mango']"
   ]
  },
  {
   "cell_type": "code",
   "execution_count": 218,
   "id": "f72b2947-1c8b-4d5b-ab14-32306d77b6ab",
   "metadata": {},
   "outputs": [
    {
     "name": "stdout",
     "output_type": "stream",
     "text": [
      "cherry\n"
     ]
    }
   ],
   "source": [
    "print (l2[3])"
   ]
  },
  {
   "cell_type": "markdown",
   "id": "6e371e44-41dc-4641-b816-051e8990712f",
   "metadata": {},
   "source": [
    "# Question 29.write a code to combine two dictionaries into one and print the result?"
   ]
  },
  {
   "cell_type": "code",
   "execution_count": 222,
   "id": "820fe21d-af16-4b28-b236-9596265b4847",
   "metadata": {},
   "outputs": [],
   "source": [
    "d5={'nam':'Alex','cit':'delhi'}\n",
    "d6={'name':'Bob','age':22,'city':'New York'}"
   ]
  },
  {
   "cell_type": "code",
   "execution_count": 223,
   "id": "758e4497-e218-40be-ab22-6d33411c041d",
   "metadata": {},
   "outputs": [],
   "source": [
    "d5.update(d6)"
   ]
  },
  {
   "cell_type": "code",
   "execution_count": 224,
   "id": "f0b3b803-815b-4944-9d58-70dfd9c781aa",
   "metadata": {},
   "outputs": [
    {
     "name": "stdout",
     "output_type": "stream",
     "text": [
      "{'nam': 'Alex', 'cit': 'delhi', 'name': 'Bob', 'age': 22, 'city': 'New York'}\n"
     ]
    }
   ],
   "source": [
    "print (d5)"
   ]
  },
  {
   "cell_type": "markdown",
   "id": "3d242459-884b-4285-90b9-b4dd1516b281",
   "metadata": {},
   "source": [
    "# Question 30. write a code to convert a list of strings into a set?"
   ]
  },
  {
   "cell_type": "code",
   "execution_count": 225,
   "id": "3f703e53-e0c2-45bb-b8de-7e6801e4445a",
   "metadata": {},
   "outputs": [],
   "source": [
    "l2=['apple','banana','kiwi','cherry','mango']"
   ]
  },
  {
   "cell_type": "code",
   "execution_count": 230,
   "id": "9574dea0-8b36-496c-9992-feefb7df0f2c",
   "metadata": {},
   "outputs": [],
   "source": [
    "s2=set(l2)"
   ]
  },
  {
   "cell_type": "code",
   "execution_count": 231,
   "id": "95b68f6b-c016-46e6-b234-fa886c4f7d9d",
   "metadata": {},
   "outputs": [
    {
     "name": "stdout",
     "output_type": "stream",
     "text": [
      "{'apple', 'kiwi', 'mango', 'cherry', 'banana'}\n"
     ]
    }
   ],
   "source": [
    "print (s2)"
   ]
  },
  {
   "cell_type": "code",
   "execution_count": 232,
   "id": "2a0255fa-03e7-4d4b-8f94-abe4ad1aa19e",
   "metadata": {},
   "outputs": [
    {
     "data": {
      "text/plain": [
       "set"
      ]
     },
     "execution_count": 232,
     "metadata": {},
     "output_type": "execute_result"
    }
   ],
   "source": [
    "type(s2)"
   ]
  },
  {
   "cell_type": "code",
   "execution_count": null,
   "id": "ebc89038-f8ad-416b-8039-a3d3de6a7f3c",
   "metadata": {},
   "outputs": [],
   "source": []
  }
 ],
 "metadata": {
  "kernelspec": {
   "display_name": "Python 3 (ipykernel)",
   "language": "python",
   "name": "python3"
  },
  "language_info": {
   "codemirror_mode": {
    "name": "ipython",
    "version": 3
   },
   "file_extension": ".py",
   "mimetype": "text/x-python",
   "name": "python",
   "nbconvert_exporter": "python",
   "pygments_lexer": "ipython3",
   "version": "3.12.7"
  }
 },
 "nbformat": 4,
 "nbformat_minor": 5
}
