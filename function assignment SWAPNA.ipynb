{
 "cells": [
  {
   "cell_type": "markdown",
   "id": "d5961d88-c99d-4abf-85aa-575d59538693",
   "metadata": {},
   "source": [
    "# Question1. what is the difference between a function and a method in python?\n",
    "\n",
    "Ans:- In python, function and methods are both blocks of code thatperform tasks, but they are differ mainly in how they are used\n",
    "and where they are defined\n",
    "\n",
    "function:- a function is defined using the 'def' keyword\n",
    "it can stand alone and is not tied to any object\n"
   ]
  },
  {
   "cell_type": "code",
   "execution_count": 1,
   "id": "42b8c94e-bcca-4757-804f-d93a4e6328d9",
   "metadata": {},
   "outputs": [],
   "source": [
    "def myfunc(x=3,y=4):\n",
    "        return x*y"
   ]
  },
  {
   "cell_type": "code",
   "execution_count": 2,
   "id": "0fe9f35e-a1f6-4f59-b4c5-746dc34f277c",
   "metadata": {},
   "outputs": [
    {
     "data": {
      "text/plain": [
       "42"
      ]
     },
     "execution_count": 2,
     "metadata": {},
     "output_type": "execute_result"
    }
   ],
   "source": [
    "myfunc(7,6)"
   ]
  },
  {
   "cell_type": "markdown",
   "id": "b50be617-42b8-4277-bb2f-d004ff10612a",
   "metadata": {},
   "source": [
    "method:- a method is a function that belongs to an object \n",
    "it is called on an object using the dot. notation"
   ]
  },
  {
   "cell_type": "code",
   "execution_count": 3,
   "id": "d49b4b6f-c975-4f3b-ba0b-cedd9c15e3c8",
   "metadata": {},
   "outputs": [],
   "source": [
    "l1=[1,2,3]\n",
    "l2=[4,5,6,7]"
   ]
  },
  {
   "cell_type": "code",
   "execution_count": 4,
   "id": "b80fe9f2-5de9-4719-aa0e-b721ae6bf009",
   "metadata": {},
   "outputs": [],
   "source": [
    "l1.extend(l2)"
   ]
  },
  {
   "cell_type": "code",
   "execution_count": 5,
   "id": "74b3dc2f-22d2-4c7b-8ab2-fbc1a57e0650",
   "metadata": {},
   "outputs": [
    {
     "data": {
      "text/plain": [
       "[1, 2, 3, 4, 5, 6, 7]"
      ]
     },
     "execution_count": 5,
     "metadata": {},
     "output_type": "execute_result"
    }
   ],
   "source": [
    "l1"
   ]
  },
  {
   "cell_type": "markdown",
   "id": "d833f056-a24e-4d57-9c30-6cbde17a84e4",
   "metadata": {},
   "source": [
    "all methods are funtions but not all functions are methods"
   ]
  },
  {
   "cell_type": "markdown",
   "id": "63f739c2-9ce6-402e-9bbd-b366c078e243",
   "metadata": {},
   "source": [
    "## Question2. explain the concept of function arguments and parameters in python?\n",
    "\n",
    "ans:- in python function arguments and parameters are related but different concepts used in defining and calling functions:\n",
    "\n",
    "parameters:- these are placeholders in the function defination, they specify what kind of arguments the function can accept"
   ]
  },
  {
   "cell_type": "code",
   "execution_count": 26,
   "id": "fde68978-1391-438f-8af6-7185a86cff9d",
   "metadata": {},
   "outputs": [],
   "source": [
    "def myfunc(x=7,y=9):\n",
    "        return x*y"
   ]
  },
  {
   "cell_type": "code",
   "execution_count": 6,
   "id": "74b8a6ba-af0d-4995-a556-a110f73175d1",
   "metadata": {},
   "outputs": [
    {
     "data": {
      "text/plain": [
       "24"
      ]
     },
     "execution_count": 6,
     "metadata": {},
     "output_type": "execute_result"
    }
   ],
   "source": [
    "myfunc(4,6)"
   ]
  },
  {
   "cell_type": "code",
   "execution_count": null,
   "id": "37fec3af-7907-4960-ba08-3a5a6681d9c5",
   "metadata": {},
   "outputs": [],
   "source": [
    "here x and y are parameters"
   ]
  },
  {
   "cell_type": "code",
   "execution_count": null,
   "id": "fac44eea-9b35-4c98-93d6-384168df1de9",
   "metadata": {},
   "outputs": [],
   "source": [
    "arguments:- python support several types of arguments like positional arguments, keyword arguments, default parameters, variable-length arguments etc\n",
    "\n",
    "\n",
    "here myfunc(4,6) is arguments"
   ]
  },
  {
   "cell_type": "markdown",
   "id": "5dea6bd4-f8e0-4595-8c6e-bd6921e5f98e",
   "metadata": {},
   "source": [
    "## Question 3. what are the different ways to define and call a function in python?\n",
    "\n",
    "ans:- in python there are several ways to define and call functions, depending on your needs:\n",
    "\n",
    "1.standard function defination: using key word\n",
    "2. function with default parameters\n",
    "3. function with variable positional arguments\n",
    "4. function with variable keywords arguments\n",
    "5. lambda function\n",
    "6. calling functions inside other function\n",
    "\n"
   ]
  },
  {
   "cell_type": "markdown",
   "id": "48b44f94-53a2-40f8-a598-66581f931dff",
   "metadata": {},
   "source": [
    "## Question 4. what is the purpose of the return statement in a python function?\n",
    "\n",
    "ans:- the return statement in a python function is used for \n",
    "\n",
    "1. send back a result- it gives a value back to the caller of the function so it can be used elsewhere\n"
   ]
  },
  {
   "cell_type": "code",
   "execution_count": 34,
   "id": "c04b54ca-94e8-484a-ac94-699999a129d6",
   "metadata": {},
   "outputs": [],
   "source": [
    "def myadd(a,b):\n",
    "    return a+b"
   ]
  },
  {
   "cell_type": "code",
   "execution_count": 35,
   "id": "2acb9a22-cd98-4ff9-b3a4-c1d3c4935e51",
   "metadata": {},
   "outputs": [
    {
     "data": {
      "text/plain": [
       "5"
      ]
     },
     "execution_count": 35,
     "metadata": {},
     "output_type": "execute_result"
    }
   ],
   "source": [
    "myadd(2,3)"
   ]
  },
  {
   "cell_type": "code",
   "execution_count": null,
   "id": "dc6260b1-0db2-4f0f-8f61-a5493a0d4cc1",
   "metadata": {},
   "outputs": [],
   "source": [
    "2. end the function:- it immediately exists the function , stopping further exectuion of code inside it"
   ]
  },
  {
   "cell_type": "code",
   "execution_count": 36,
   "id": "c8eac5f1-c0f3-4644-9cbf-b64b7e6dab91",
   "metadata": {},
   "outputs": [],
   "source": [
    "def check(x):\n",
    "    if x>0:\n",
    "        return 'positive'\n",
    "    else:\n",
    "        return 'zero or negative'\n",
    "    "
   ]
  },
  {
   "cell_type": "code",
   "execution_count": 37,
   "id": "0599472d-2e98-4490-88d6-4fd3d100ce9b",
   "metadata": {},
   "outputs": [
    {
     "data": {
      "text/plain": [
       "'positive'"
      ]
     },
     "execution_count": 37,
     "metadata": {},
     "output_type": "execute_result"
    }
   ],
   "source": [
    "check(4)"
   ]
  },
  {
   "cell_type": "code",
   "execution_count": 38,
   "id": "0711b45d-a36d-457f-84e9-65da4787481d",
   "metadata": {},
   "outputs": [
    {
     "data": {
      "text/plain": [
       "'zero or negative'"
      ]
     },
     "execution_count": 38,
     "metadata": {},
     "output_type": "execute_result"
    }
   ],
   "source": [
    "check(-4)"
   ]
  },
  {
   "cell_type": "markdown",
   "id": "44a61af3-452a-43d6-8b91-b2540ef600d9",
   "metadata": {},
   "source": [
    "3. return multiple values:- you can return multiple value as a tuple"
   ]
  },
  {
   "cell_type": "code",
   "execution_count": 40,
   "id": "64ce2c11-22fc-4dc9-9453-57d60be07e2c",
   "metadata": {},
   "outputs": [],
   "source": [
    "def stats(x,y):\n",
    "    return x+y,x*y"
   ]
  },
  {
   "cell_type": "code",
   "execution_count": 41,
   "id": "f08c7d61-d036-4fdc-85c8-63f5c6583ca3",
   "metadata": {},
   "outputs": [
    {
     "data": {
      "text/plain": [
       "(11, 30)"
      ]
     },
     "execution_count": 41,
     "metadata": {},
     "output_type": "execute_result"
    }
   ],
   "source": [
    "stats(5,6)"
   ]
  },
  {
   "cell_type": "code",
   "execution_count": null,
   "id": "4ffb4702-001c-4875-8f23-879b722997b6",
   "metadata": {},
   "outputs": [],
   "source": [
    "if no return is used ,the function returns None by default"
   ]
  },
  {
   "cell_type": "markdown",
   "id": "b1fa677a-7090-448e-8071-f54c64e02e97",
   "metadata": {},
   "source": [
    "## Question no5. what are itrators in python and how do they differ from iterables?\n",
    "\n",
    "ans:- in python, iterators and iterables are both used for looping, but they have different roles:\n",
    "\n",
    "iterators:- an iterator is an object used to loop through an iterable, one item at a time\n",
    "-it uses --next--() method to get the next item\n",
    "- it remebers its position in the iteration\n",
    "- you can get an iterator from an iterable using the iter() function\n",
    "\n",
    "iterables:- an iterable is any object that can return an iterator example list strings, tuples , dictionaries,sets\n",
    "it has a built-in __iter__() method"
   ]
  },
  {
   "cell_type": "markdown",
   "id": "289265b4-f01e-4a4b-b058-584188917d53",
   "metadata": {},
   "source": [
    "## Question no6. explain the concept of generators in python and how they are defined?\n",
    "\n",
    "ans:-in python generators are a special type of iterator that are used to generate values on the fly, saving memory and improving performance for large data sets\n",
    "\n",
    "a generator yields values one at a time using the yield keyword instead of return, it does not store all values in memory- it generates them as needed\n",
    "\n",
    "use def keyword like a normal function\n",
    "use yield to return values one at a time\n"
   ]
  },
  {
   "cell_type": "code",
   "execution_count": 61,
   "id": "448ef8c4-888a-4097-a23c-6549b729ee88",
   "metadata": {},
   "outputs": [],
   "source": [
    "def count_up_to(n):\n",
    "    i=1\n",
    "    while i<=n:\n",
    "        yield i\n",
    "        i+=1 "
   ]
  },
  {
   "cell_type": "code",
   "execution_count": 66,
   "id": "d55e6651-62b2-419e-ac7a-8394541f3a49",
   "metadata": {},
   "outputs": [],
   "source": [
    "counter=count_up_to(10)"
   ]
  },
  {
   "cell_type": "code",
   "execution_count": 69,
   "id": "dda85372-ddbf-4504-8b64-2b8fafa95c93",
   "metadata": {},
   "outputs": [
    {
     "name": "stdout",
     "output_type": "stream",
     "text": [
      "1\n"
     ]
    }
   ],
   "source": [
    "print (next(counter))"
   ]
  },
  {
   "cell_type": "code",
   "execution_count": 70,
   "id": "fb7640be-0b22-436d-95ab-8746c69348d3",
   "metadata": {},
   "outputs": [
    {
     "name": "stdout",
     "output_type": "stream",
     "text": [
      "2\n"
     ]
    }
   ],
   "source": [
    "print (next(counter))"
   ]
  },
  {
   "cell_type": "code",
   "execution_count": null,
   "id": "43498dea-4153-4dc3-afca-65a1eaad8668",
   "metadata": {},
   "outputs": [],
   "source": [
    "this function doesnot run until you iterate over it"
   ]
  },
  {
   "cell_type": "markdown",
   "id": "81aa99c1-36e9-401e-b912-71a03e8f846d",
   "metadata": {},
   "source": [
    "## Question 7.what are the advantages of using generators over regular function?\n",
    "\n",
    "ans:- generators offer several advantages over regular functions especially when working with large data or streams\n",
    "1. memory efficiency- generators donot store the entire result in memory, they yield items one by one, which is perfect for large datasets.\n",
    "2. lazy evaluation- values are produced only when needed\n",
    "3. infinite sequence- generators are ideal for infinite or very large sequence, where a regular list exhaust memory\n",
    "4. it has cleaner code and better performance"
   ]
  },
  {
   "cell_type": "markdown",
   "id": "192008a0-2b9f-41c6-bce9-241e99612128",
   "metadata": {},
   "source": [
    "## question 8. what is a lambda function in python and when it typically used?\n",
    "ans:-A lambda function in python is a small, anonymous function defined using the lambda keyword instead of def\n",
    "\n",
    "it typically used for short,one line functions that are simple and dont need a full def block\n",
    "passing functions as arguments to higher order function like map(),filter(),and sorted()."
   ]
  },
  {
   "cell_type": "code",
   "execution_count": 8,
   "id": "050038c2-8870-4637-85e6-9554dcfe849e",
   "metadata": {},
   "outputs": [],
   "source": [
    "cube=lambda x:x*x*x"
   ]
  },
  {
   "cell_type": "code",
   "execution_count": 9,
   "id": "6ec4d739-d296-478c-b6f0-60d9431403b8",
   "metadata": {},
   "outputs": [
    {
     "name": "stdout",
     "output_type": "stream",
     "text": [
      "2197\n"
     ]
    }
   ],
   "source": [
    "print(cube(13))"
   ]
  },
  {
   "cell_type": "markdown",
   "id": "e8707bbd-329b-4729-8d67-0f722e9fa776",
   "metadata": {},
   "source": [
    "## Question 9. explain the purpose and usage of the map() function in python?\n",
    "\n",
    "ans:- the map() function in python is used to apply a function to every item in an iterable (like a list or tuple) and return a new iterable (a map object)\n",
    "\n",
    "purpose of map() - to perform elementwise transformation on data without using explict loops"
   ]
  },
  {
   "cell_type": "code",
   "execution_count": 86,
   "id": "63cbe7db-054b-4e32-8ef2-935279d74f63",
   "metadata": {},
   "outputs": [],
   "source": [
    "l1=[1,2,3,4,5]"
   ]
  },
  {
   "cell_type": "code",
   "execution_count": 87,
   "id": "a223ff2c-edd4-4607-8b3b-4d806b5eb0f7",
   "metadata": {},
   "outputs": [],
   "source": [
    "squared=map(lambda x:x*x,l1)"
   ]
  },
  {
   "cell_type": "code",
   "execution_count": 88,
   "id": "c3f2ff34-fa1e-464d-ba92-a01fe63b27a5",
   "metadata": {},
   "outputs": [
    {
     "name": "stdout",
     "output_type": "stream",
     "text": [
      "[1, 4, 9, 16, 25]\n"
     ]
    }
   ],
   "source": [
    "print(list(squared))"
   ]
  },
  {
   "cell_type": "markdown",
   "id": "030d3085-7bc1-4b86-ab05-43bd4fa7934e",
   "metadata": {},
   "source": [
    "## Question 10. what is the difference between map(),reduce(), and filter() function in python?\n",
    "\n",
    "ans:- map() function applies a function to every item in the iterable like a list and returns a new map object which can be converted to a list\n"
   ]
  },
  {
   "cell_type": "code",
   "execution_count": 184,
   "id": "6da8e18a-8132-4d6f-b933-d37e29fb5bcd",
   "metadata": {},
   "outputs": [],
   "source": [
    "l1=[1,2,3,4,5,6]"
   ]
  },
  {
   "cell_type": "code",
   "execution_count": 187,
   "id": "4e7e1fc1-6fd0-4aa7-9174-b0d77bea6e5f",
   "metadata": {},
   "outputs": [],
   "source": [
    "squared=map(lambda x:x*x,l1)"
   ]
  },
  {
   "cell_type": "code",
   "execution_count": null,
   "id": "6d1c3c32-560c-4da1-ad99-91c1be80e5d2",
   "metadata": {},
   "outputs": [],
   "source": [
    "reduce:- applies comulatively to the items in the iterable, reducing it to a single value\n",
    "\n",
    "filter:- is iterable by applying the function that returns True or False"
   ]
  },
  {
   "cell_type": "code",
   "execution_count": 114,
   "id": "6eba70b4-692c-49da-b727-43b3e8d802a6",
   "metadata": {},
   "outputs": [],
   "source": [
    "l1=[1,2,3,4,5]"
   ]
  },
  {
   "cell_type": "code",
   "execution_count": null,
   "id": "e519be52-797e-4641-9504-04149cea0261",
   "metadata": {},
   "outputs": [],
   "source": [
    "#reduce"
   ]
  },
  {
   "cell_type": "code",
   "execution_count": 115,
   "id": "05fab611-e5cb-48e3-beb1-83bb3007006d",
   "metadata": {},
   "outputs": [
    {
     "name": "stdout",
     "output_type": "stream",
     "text": [
      "120\n"
     ]
    }
   ],
   "source": [
    "from functools import reduce\n",
    "product=reduce(lambda x,y:x*y,l1)\n",
    "print(product)"
   ]
  },
  {
   "cell_type": "markdown",
   "id": "8092eec8-3b01-4a98-825a-1fcb49b6ab95",
   "metadata": {},
   "source": [
    "## Question 11. using pen & paper write the internal mechanism for sum operation using reduce function on this given list:[47,11,42,13]?\n",
    "ans:-\n",
    "\n"
   ]
  },
  {
   "cell_type": "code",
   "execution_count": 108,
   "id": "c846c91c-5df6-460c-8317-a457800a0baf",
   "metadata": {},
   "outputs": [],
   "source": [
    "list=[47,11,42,13]"
   ]
  },
  {
   "cell_type": "code",
   "execution_count": 112,
   "id": "ddb9b076-0622-474d-8636-dc67b5ae0c1e",
   "metadata": {},
   "outputs": [
    {
     "name": "stdout",
     "output_type": "stream",
     "text": [
      "113\n"
     ]
    }
   ],
   "source": [
    "from functools import reduce\n",
    "total=reduce(lambda x,y:x+y,list)\n",
    "print(total)"
   ]
  },
  {
   "cell_type": "raw",
   "id": "79c93f8e-f4c6-4674-9ecb-851bac87788f",
   "metadata": {},
   "source": [
    "step by step internal mechanism\n",
    "first step\n",
    "x=47,y=11\n",
    "x+y=58\n",
    "now the list becomes:[58,42,13]\n",
    "\n",
    "second step:-\n",
    "x=58, y=42\n",
    "x+y=100\n",
    "now thelist became[100,13]\n",
    "\n",
    "third step\n",
    "x=100,y=13\n",
    "x+y=113\n",
    "now the list becomes [113]"
   ]
  },
  {
   "cell_type": "markdown",
   "id": "5795c9ae-9337-4c62-bea7-fd427dcb9985",
   "metadata": {},
   "source": [
    "## PRACTICAL QUESTIONS"
   ]
  },
  {
   "cell_type": "code",
   "execution_count": null,
   "id": "fd514570-d362-4acc-8d71-7fa0f0adb5e0",
   "metadata": {},
   "outputs": [],
   "source": []
  },
  {
   "cell_type": "markdown",
   "id": "85ec27fd-2f2e-41b5-98ea-aec236625bcb",
   "metadata": {},
   "source": [
    "## Question NO 1.write a python function that takes a list of numbers as input and returns the sum of all even numbers in the list?"
   ]
  },
  {
   "cell_type": "code",
   "execution_count": 129,
   "id": "60f0376a-31e1-4dee-b07a-8da36f09c2fd",
   "metadata": {},
   "outputs": [
    {
     "data": {
      "text/plain": [
       "[1, 2, 3, 4, 5]"
      ]
     },
     "execution_count": 129,
     "metadata": {},
     "output_type": "execute_result"
    }
   ],
   "source": [
    "l1"
   ]
  },
  {
   "cell_type": "code",
   "execution_count": 130,
   "id": "8bb37002-d6ec-4b8a-a180-e39fe0ea1da8",
   "metadata": {},
   "outputs": [],
   "source": [
    "def sum_of_even_numbers(numbers):\n",
    "    even_numbers=filter(lambda x:x%2==0,numbers)\n",
    "    return sum(even_numbers)"
   ]
  },
  {
   "cell_type": "code",
   "execution_count": 131,
   "id": "0c4c66af-d7ac-4d9f-95c8-ed12e1f2e304",
   "metadata": {},
   "outputs": [],
   "source": [
    "result=sum_of_even_numbers(l1)"
   ]
  },
  {
   "cell_type": "code",
   "execution_count": 132,
   "id": "95665b1a-7a6a-4f5f-915e-0120de97f872",
   "metadata": {},
   "outputs": [
    {
     "name": "stdout",
     "output_type": "stream",
     "text": [
      "sum of even numbers: 6\n"
     ]
    }
   ],
   "source": [
    "print('sum of even numbers:',result)"
   ]
  },
  {
   "cell_type": "markdown",
   "id": "c3afbbc3-0a8a-44d6-859e-1ca8f000cc5e",
   "metadata": {},
   "source": [
    "## Question no 2. create a python function that accept a string and returns the reverse of that string?"
   ]
  },
  {
   "cell_type": "code",
   "execution_count": 159,
   "id": "a540704b-5986-4b3a-bec5-62486b053540",
   "metadata": {},
   "outputs": [],
   "source": [
    "def reverse_string(text):\n",
    "    return text[::-1]"
   ]
  },
  {
   "cell_type": "code",
   "execution_count": 160,
   "id": "62738e7c-bc2f-43ad-ac7f-1b409f9925df",
   "metadata": {},
   "outputs": [
    {
     "name": "stdout",
     "output_type": "stream",
     "text": [
      "reversed string: nohtyp\n"
     ]
    }
   ],
   "source": [
    "input_string='python'\n",
    "reversed_string=reverse_string(input_string)\n",
    "print('reversed string:',reversed_string)"
   ]
  },
  {
   "cell_type": "markdown",
   "id": "7d6a3b3a-5b95-46c0-95fa-ddfc40d920f0",
   "metadata": {},
   "source": [
    "## Question no 3. implement a python function that takes a list of integers and return a new list containing the squares of each number?"
   ]
  },
  {
   "cell_type": "code",
   "execution_count": 223,
   "id": "7931f96f-2393-463f-baa1-4d877da2c91b",
   "metadata": {},
   "outputs": [],
   "source": [
    "l2=[1,2,3,4,5,6,7]"
   ]
  },
  {
   "cell_type": "code",
   "execution_count": 228,
   "id": "a8bbb19a-76aa-4582-a2b1-7f67acdef0a0",
   "metadata": {},
   "outputs": [
    {
     "name": "stdout",
     "output_type": "stream",
     "text": [
      "[1, 4, 9, 16, 25, 36, 49]\n"
     ]
    }
   ],
   "source": [
    "squares=[]\n",
    "for i in range (1,8):\n",
    "    squares.append(i**2)\n",
    "print(squares)"
   ]
  },
  {
   "cell_type": "markdown",
   "id": "9ee7e9f6-7fa2-4ce6-839b-9f159d8021f1",
   "metadata": {},
   "source": [
    "## Question no 4 write a python function that checks if a given number is prime or not from 1 to 200?"
   ]
  },
  {
   "cell_type": "code",
   "execution_count": 229,
   "id": "f46cb152-d0a4-495c-91c7-dc7c1f306552",
   "metadata": {},
   "outputs": [],
   "source": [
    "def is_prime(n):\n",
    "    if n<=1:\n",
    "        return False\n",
    "    for i in range(2, int(n**0.5)+1):\n",
    "        if n%i==0:\n",
    "            return False\n",
    "    return True"
   ]
  },
  {
   "cell_type": "code",
   "execution_count": 230,
   "id": "d532063c-15b9-493d-b02c-95a02e89b86e",
   "metadata": {},
   "outputs": [],
   "source": [
    "prime_numbers=[num for num in range(1,201) if is_prime(num)]"
   ]
  },
  {
   "cell_type": "code",
   "execution_count": 231,
   "id": "07e0f96d-4c42-4ffb-aa96-69e38a19da17",
   "metadata": {},
   "outputs": [
    {
     "name": "stdout",
     "output_type": "stream",
     "text": [
      "[2, 3, 5, 7, 11, 13, 17, 19, 23, 29, 31, 37, 41, 43, 47, 53, 59, 61, 67, 71, 73, 79, 83, 89, 97, 101, 103, 107, 109, 113, 127, 131, 137, 139, 149, 151, 157, 163, 167, 173, 179, 181, 191, 193, 197, 199]\n"
     ]
    }
   ],
   "source": [
    "print(prime_numbers)"
   ]
  },
  {
   "cell_type": "markdown",
   "id": "9d5abcfe-12ff-4765-ada1-62b35f91ea12",
   "metadata": {},
   "source": [
    "## Question 5.create an iterator class in python that generates the fibonacci sequence up to a specified number of terms?"
   ]
  },
  {
   "cell_type": "code",
   "execution_count": null,
   "id": "9c19daab-12ea-4d8b-aa40-d3fffc0568cd",
   "metadata": {},
   "outputs": [],
   "source": [
    "the fibonacci sequence is a series of numbers where each number is the sum of the two preceding ones\n",
    "\n",
    "first term f0 = 0\n",
    "second term f1=1\n",
    "for all next terms fn=fn-1+fn-2"
   ]
  },
  {
   "cell_type": "code",
   "execution_count": 232,
   "id": "3d7390ba-ac73-4d48-a30f-3f1a1098d54c",
   "metadata": {},
   "outputs": [
    {
     "ename": "NameError",
     "evalue": "name 'Fibonacciiterator' is not defined",
     "output_type": "error",
     "traceback": [
      "\u001b[1;31m---------------------------------------------------------------------------\u001b[0m",
      "\u001b[1;31mNameError\u001b[0m                                 Traceback (most recent call last)",
      "Cell \u001b[1;32mIn[232], line 1\u001b[0m\n\u001b[1;32m----> 1\u001b[0m fib\u001b[38;5;241m=\u001b[39mFibonacciiterator(\u001b[38;5;241m10\u001b[39m)\n\u001b[0;32m      2\u001b[0m \u001b[38;5;28;01mfor\u001b[39;00m num \u001b[38;5;129;01min\u001b[39;00m fib:\n\u001b[0;32m      3\u001b[0m     \u001b[38;5;28mprint\u001b[39m(num)\n",
      "\u001b[1;31mNameError\u001b[0m: name 'Fibonacciiterator' is not defined"
     ]
    }
   ],
   "source": [
    "fib=Fibonacciiterator(10)\n",
    "for num in fib:\n",
    "    print(num)"
   ]
  },
  {
   "cell_type": "markdown",
   "id": "5949e006-d18b-4a3e-9038-ae4913f322e5",
   "metadata": {},
   "source": [
    "## Question 6.write a generator function in python that yields the powers of 2 up to a given exponent?"
   ]
  },
  {
   "cell_type": "code",
   "execution_count": 249,
   "id": "cc3bfe3e-3958-4f1e-9e6d-7366346185f6",
   "metadata": {},
   "outputs": [],
   "source": [
    "# Generator function to yield powers of 2"
   ]
  },
  {
   "cell_type": "code",
   "execution_count": 252,
   "id": "333f79e9-6f20-42af-9535-c9483cd5cb3e",
   "metadata": {},
   "outputs": [],
   "source": [
    "def generate_powers_of_two(max_exponent):\n",
    "    for exponent in range(max_exponent+1):\n",
    "        yield 2** exponent"
   ]
  },
  {
   "cell_type": "code",
   "execution_count": 254,
   "id": "a9c7c9c8-d216-493d-bd43-ab33454d956f",
   "metadata": {},
   "outputs": [
    {
     "name": "stdout",
     "output_type": "stream",
     "text": [
      "1\n",
      "2\n",
      "4\n",
      "8\n",
      "16\n",
      "32\n",
      "64\n"
     ]
    }
   ],
   "source": [
    "for power in generate_powers_of_two(6):\n",
    "    print(power)"
   ]
  },
  {
   "cell_type": "markdown",
   "id": "44407679-d81e-4141-a07d-5972b79e52be",
   "metadata": {},
   "source": [
    "## Question 7. implement a generator function that reads  a file line by line and yields each line as a string?"
   ]
  },
  {
   "cell_type": "code",
   "execution_count": null,
   "id": "bdcffa2e-ff26-4b65-b600-c895210337b2",
   "metadata": {},
   "outputs": [],
   "source": [
    "file=open('readfile.txt','r')\n",
    "line=file.readlines()\n",
    "print(line[1])"
   ]
  },
  {
   "cell_type": "markdown",
   "id": "b2f415a7-2548-4466-943e-814a4ed4315e",
   "metadata": {},
   "source": [
    "## Question 8. use a lambda function in python to sort a list of tuples based on the second element of each tuple?"
   ]
  },
  {
   "cell_type": "code",
   "execution_count": 259,
   "id": "068ae0c3-f5a6-4e54-9f0c-dc26875ca2f3",
   "metadata": {},
   "outputs": [],
   "source": [
    "l1=[(1,5),(3,1),(2,4),(5,2)]"
   ]
  },
  {
   "cell_type": "code",
   "execution_count": 260,
   "id": "a45d79ab-7092-4431-8411-6956d7fa7ccf",
   "metadata": {},
   "outputs": [
    {
     "name": "stdout",
     "output_type": "stream",
     "text": [
      "[(3, 1), (5, 2), (2, 4), (1, 5)]\n"
     ]
    }
   ],
   "source": [
    "sorted_l1=sorted(l1,key=lambda x:x[1])\n",
    "print(sorted_l1)"
   ]
  },
  {
   "cell_type": "markdown",
   "id": "064e447f-0428-4093-a1fd-f9c7a251238a",
   "metadata": {},
   "source": [
    "## Question 9. write a python programme that uses map() to convert a list of temperatures from celcious to farenhit?"
   ]
  },
  {
   "cell_type": "code",
   "execution_count": null,
   "id": "2a139bf3-d7cb-4387-bf3c-556a54b0cda5",
   "metadata": {},
   "outputs": [],
   "source": [
    "list of temperature in celsius c1=[0,20,35,45,100]"
   ]
  },
  {
   "cell_type": "code",
   "execution_count": 269,
   "id": "beed903d-f471-4077-a54a-6f542cc50b99",
   "metadata": {},
   "outputs": [],
   "source": [
    "celsius=[0,20,35,45,100]"
   ]
  },
  {
   "cell_type": "raw",
   "id": "e1279eaf-2da2-4032-9896-b7490bef8a3a",
   "metadata": {},
   "source": [
    "fahrenheit=list(map(lambda c:(c*9/5+32,celsius)))\n",
    "print('fahrenheit:',fahrenheit)"
   ]
  },
  {
   "cell_type": "markdown",
   "id": "e7fac2c1-06db-49f7-8f0b-6500bf37c645",
   "metadata": {},
   "source": [
    "## Question 10. create a python programm that uses filter() to remove all the vowels from a given string?"
   ]
  },
  {
   "cell_type": "code",
   "execution_count": 282,
   "id": "89e50f33-ef4d-47db-b2c3-47828045d34a",
   "metadata": {},
   "outputs": [],
   "source": [
    "text=\"the quick brown fox jumps over the lazy dog\""
   ]
  },
  {
   "cell_type": "code",
   "execution_count": 284,
   "id": "f8ffdba6-a85f-4fdd-9431-031934753c56",
   "metadata": {},
   "outputs": [
    {
     "ename": "SyntaxError",
     "evalue": "unterminated string literal (detected at line 1) (3188710642.py, line 1)",
     "output_type": "error",
     "traceback": [
      "\u001b[1;36m  Cell \u001b[1;32mIn[284], line 1\u001b[1;36m\u001b[0m\n\u001b[1;33m    result=\".join(filter(lambda c:c.lower()not in 'aeiou',text))\u001b[0m\n\u001b[1;37m           ^\u001b[0m\n\u001b[1;31mSyntaxError\u001b[0m\u001b[1;31m:\u001b[0m unterminated string literal (detected at line 1)\n"
     ]
    }
   ],
   "source": [
    "result=\".join(filter(lambda c:c.lower()not in 'aeiou',text))\n",
    "print (\"string without vowels:\",result)"
   ]
  },
  {
   "cell_type": "markdown",
   "id": "65937b8e-e096-4fc7-878e-19e2249bb854",
   "metadata": {},
   "source": [
    "## Question 11"
   ]
  },
  {
   "cell_type": "markdown",
   "id": "6f2d4845-325a-4d3e-99d4-6d556df46b18",
   "metadata": {},
   "source": [
    "### book shop accounting with lambda and map\n",
    "\n",
    "this programm posses a list of book orders . each order includes \n",
    "order number\n",
    "book title and auther\n",
    "quantity\n",
    "price per item\n",
    "we will \n",
    "multiply quantity and price to get the total order value\n",
    "add 10 if the total is less than 100\n",
    "return a list of tuple containg (order numbr , final order value)\n"
   ]
  },
  {
   "cell_type": "code",
   "execution_count": null,
   "id": "09b93761-c9a2-438f-aba2-3c28874f0df1",
   "metadata": {},
   "outputs": [],
   "source": [
    "#original list of book orders"
   ]
  },
  {
   "cell_type": "code",
   "execution_count": 290,
   "id": "300b948e-e517-447f-856c-1883f766f190",
   "metadata": {},
   "outputs": [],
   "source": [
    "orders=[[34587,\"learning python, Mark Lutz\",4,40.95],[98762,\"Programming python,Mark Lutz\",5,56.80],[77226,\"Head First python,paul Barry\",3,32.95],[88112,\"Einfuhrung in python3,Bernd Klein\",3,24.99]]"
   ]
  },
  {
   "cell_type": "raw",
   "id": "fe807544-26c5-49cd-8a76-1b7d338bda5c",
   "metadata": {},
   "source": [
    "result=list(map(lambda order:(order[0],round(order[2]*order[3]+10 if order[2]*order[3]<100 elseorder[2]*order[3],2)),orders))"
   ]
  },
  {
   "cell_type": "code",
   "execution_count": 292,
   "id": "0a3de078-4ec1-4c6a-8be0-49f2ade7d54a",
   "metadata": {},
   "outputs": [
    {
     "name": "stdout",
     "output_type": "stream",
     "text": [
      "processed orders(order number,final amount):\n",
      "6\n"
     ]
    }
   ],
   "source": [
    "print(\"processed orders(order number,final amount):\")\n",
    "print(result)"
   ]
  },
  {
   "cell_type": "code",
   "execution_count": null,
   "id": "65eaf23f-4d67-437e-8a1e-a8553c607bf8",
   "metadata": {},
   "outputs": [],
   "source": []
  }
 ],
 "metadata": {
  "kernelspec": {
   "display_name": "Python 3 (ipykernel)",
   "language": "python",
   "name": "python3"
  },
  "language_info": {
   "codemirror_mode": {
    "name": "ipython",
    "version": 3
   },
   "file_extension": ".py",
   "mimetype": "text/x-python",
   "name": "python",
   "nbconvert_exporter": "python",
   "pygments_lexer": "ipython3",
   "version": "3.12.7"
  }
 },
 "nbformat": 4,
 "nbformat_minor": 5
}
