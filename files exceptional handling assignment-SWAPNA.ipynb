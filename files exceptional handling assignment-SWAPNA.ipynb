{
 "cells": [
  {
   "cell_type": "markdown",
   "id": "80967472-1e02-4010-a261-6ae15a49b336",
   "metadata": {},
   "source": [
    "## THEORY QUESTIONS"
   ]
  },
  {
   "cell_type": "markdown",
   "id": "683525ff-5966-4a0b-a020-7d00f8c1e6cd",
   "metadata": {},
   "source": [
    "## QUESTION 1.WHAT IS THE DIFFERENCE BETWEEN INTERPRETED AND COMPILED LANGUAGE?\n",
    "\n",
    "ANS:- An interpreted language is executed line by line by an interpreter at runtime, while a compiled lanuage is first converted into machine code by a compiler before execution."
   ]
  },
  {
   "cell_type": "markdown",
   "id": "c69f6d1b-5a55-4335-94c9-172445a0791b",
   "metadata": {},
   "source": [
    "## Question 2. what is exception handling in python?\n",
    "\n",
    "Ans:- exception handling in python is a way to manage errors that occur during the execution of a programm to contionue running instead of crashing when an error happens. python uses the try ,except ,else, and finally blocks for exception handling."
   ]
  },
  {
   "cell_type": "markdown",
   "id": "48629983-4b4f-4fcf-b637-a00c7045c387",
   "metadata": {},
   "source": [
    "## Question 3. what is the purpose of finally block in exception handling?\n",
    "Ans:- the finally block is used to write code that must be executed no matter what ,wheather an exception occurs or not. it is typically used for cleanup actions like closing files , releasing resources or closing database connection."
   ]
  },
  {
   "cell_type": "markdown",
   "id": "a8facd5a-dee2-47c8-b8bc-84f3c0e04973",
   "metadata": {},
   "source": [
    "## Question 4.what is logging in python?\n",
    "ans:-logging in python is a way to track events that happen while your programms runs. it helps you understand the flow of execution and find bugs or errors without using print statement."
   ]
  },
  {
   "cell_type": "markdown",
   "id": "bbb2e2c8-210b-4052-a030-093e0cd192fa",
   "metadata": {},
   "source": [
    "## Question 5. what is the siginificance of th __del__ method in python?\n",
    "Ans:-The __del__ method in python allows you to cleanup resource like files,network connections,or memory before the object is deleted and also called a destructor."
   ]
  },
  {
   "cell_type": "markdown",
   "id": "1b8daf9f-a813-4878-8d1a-ad95feba9424",
   "metadata": {},
   "source": [
    "## Question 6.what is the difference between import and from...import in python?\n",
    "\n",
    "ans:-in python, both import and from... import are used to include modules but  they work slight differently:\n",
    "\n",
    "1. import: import the entire module\n",
    "2. from..import : import specific parts functions, classes,variables etc"
   ]
  },
  {
   "cell_type": "markdown",
   "id": "3b8430e6-d989-4874-b98b-be3bfd276a89",
   "metadata": {},
   "source": [
    "## Question 7. how can you handle multiple exceptions in python?\n",
    "Ans:- inpython you can handle multiple exceptions using multiple except block or single except block with a tuple."
   ]
  },
  {
   "cell_type": "markdown",
   "id": "e9c74a01-56f0-4499-b285-c39de94ae164",
   "metadata": {},
   "source": [
    "## Question 8.what is the purpose of the with statement when handling files in python?\n",
    "ans:- the with statements in python is used to safely hanle files and other resources . it main purposes is to automatically manage resource - especially to make sure that files are properly closed even if an error occurs."
   ]
  },
  {
   "cell_type": "markdown",
   "id": "ecb353f8-e09e-40a3-9501-8486468e1912",
   "metadata": {},
   "source": [
    "## Question 9.what is the difference between multithreading and multiprocessing?\n",
    "\n",
    "multithreading and multiprocessing are both techniques to achieve concurrent execution in python , but they work differently:\n",
    "1. multithreading - run multiple threads within the same process\n",
    "2. run multiple processes each with its own memory space"
   ]
  },
  {
   "cell_type": "markdown",
   "id": "c1c62dee-6505-4ac6-81eb-a2df7f10da26",
   "metadata": {},
   "source": [
    "## Question 10. What are the advantages of using logging in a programm?\n",
    "ans:- the main advantages of logging in a python are \n",
    "1. easier debugging\n",
    "2. error tracking\n",
    "3. better than print()\n",
    "4. customise log levels\n",
    "5. persistent records\n",
    "6. useful in production"
   ]
  },
  {
   "cell_type": "markdown",
   "id": "0f161a9f-7fbf-47e6-8d50-0fe4f43b7a6c",
   "metadata": {},
   "source": [
    "## Question 11. what is the memory management in python?\n",
    "ans:-python handles memory management automatically, using a combination of techniques built into the interpreter.\n",
    "1. automatic garbage collection\n",
    "2. reference counting\n",
    "3. private heap space\n",
    "4. memory pools\n",
    "5. gc Module\n",
    "\n",
    "no need to allocate manual or free memory."
   ]
  },
  {
   "cell_type": "markdown",
   "id": "afec8428-3219-46db-b96c-664cace53914",
   "metadata": {},
   "source": [
    "## Question 12. what are the basic steps involved in exception handling in python?\n",
    "ans:- python uses the try, excpt,else, and finally blocks to handle exceptions .\n",
    "1. try block watch for errors\n",
    "2. except block handle the errors\n",
    "3. else block optional -run if no error occurs\n",
    "4. finally block always run"
   ]
  },
  {
   "cell_type": "markdown",
   "id": "705eb9a1-3a0c-45d4-bf6f-2ebd1c3c51bc",
   "metadata": {},
   "source": [
    "## Question 13. what is memory management important in python?\n",
    "ans:- memory management is a crucial part of any programming lanuage.it ensures\n",
    "1. prevent memory leaks\n",
    "2. improve performance\n",
    "3. automatic handling save time\n",
    "4. support large and complex applications\n",
    "5. helps avoid programm crashes\n",
    "6. ensures security and stability"
   ]
  },
  {
   "cell_type": "markdown",
   "id": "6640ce00-246b-4091-9edf-c24ba5543f68",
   "metadata": {},
   "source": [
    "## Question 14. what is the role of try and except in exceptional handling?\n",
    "ans:-the try and except in exception handling are the core of exception handling in python\n",
    "1. try block dteect errors\n",
    "2. except block handle errors\n",
    "   "
   ]
  },
  {
   "cell_type": "markdown",
   "id": "aad154b4-2d42-460c-8ae6-98b8cf61626b",
   "metadata": {},
   "source": [
    "## Question 15.How does pyhtons garbage collection system works?\n",
    "ans:-python garbage collection system  automatically manages memory by removing unused or unreachable objects\n",
    "1. reference counting\n",
    "2. cyclic garbage collection\n",
    "3. generational garbage collection\n"
   ]
  },
  {
   "cell_type": "markdown",
   "id": "b90818ca-1b48-4a70-8217-2ffba007638a",
   "metadata": {},
   "source": [
    "## Question 16. what is the purpose of else block in exceptional handling?\n",
    "ans:-the else block in python exception handling is used to define code that should run only if no exceptions occur in try block"
   ]
  },
  {
   "cell_type": "markdown",
   "id": "a7444fec-8f49-4267-8eda-8675c3adf8c9",
   "metadata": {},
   "source": [
    "## Question 17. what are the common logging level in python?\n",
    "ans:- python logging module defines several log levels to indicate the severity or importance of a message\n",
    "1. logging.debug()\n",
    "2. logging.info()\n",
    "3. logging.warning()\n",
    "4. logging.error()\n",
    "5. logging.critical()"
   ]
  },
  {
   "cell_type": "markdown",
   "id": "328fd97e-e9bb-4e35-aafd-d8444793a8bb",
   "metadata": {},
   "source": [
    "## Question 18. what is the difference between os.fork and multiprocessing in python?\n",
    "ans:-\n",
    "1. os.fork -low level system call used to create a child process, available only on unix/linux system\n",
    "2. multiprocessing module to create process safely and portably"
   ]
  },
  {
   "cell_type": "markdown",
   "id": "a52e6bdf-caf1-470e-83fa-b2678d9345d5",
   "metadata": {},
   "source": [
    "## Questions 19. what is the importance of closing the file in python?\n",
    "ans- closing a file in python  by using .close() is very important for several reasons\n",
    "1. free up system resource\n",
    "2. save data properly\n",
    "3. prevents file corruption\n",
    "4. avoids file access errors\n",
    "5.good programming praactice"
   ]
  },
  {
   "cell_type": "markdown",
   "id": "01bb075d-0802-4941-a917-e069ffc480eb",
   "metadata": {},
   "source": [
    "## Question 20. what is the difference between file.read() and file.readline() in python?\n",
    "ans- both methods are ussed to read content from a file but they behave differently\n",
    "1. file.read() reads the entire content of the file as a single string\n",
    "2. file.readline() reads oneline at a time useful for reading large files line by line"
   ]
  },
  {
   "cell_type": "markdown",
   "id": "c687b1e0-58e7-4007-ac51-292ea9c42df8",
   "metadata": {},
   "source": [
    "## Question 21. what is the logging module in python used for?\n",
    "ans:- the logging module in python is used to track events that happen when your programm runs.\n",
    "1. debugging\n",
    "2. monitoring\n",
    "3. error tracking\n",
    "4. audit trails\n",
    "5. flexible output\n"
   ]
  },
  {
   "cell_type": "markdown",
   "id": "a0c55a6d-bf58-4851-9e3d-0a98ced76f40",
   "metadata": {},
   "source": [
    "## Question 22. what is the os module in python used for in file handling?\n",
    "ans:-the os module in python provides a way to interact with the operating system especially for tasks like file and directory management\n",
    "    1. checking if a file directory exist\n",
    "    2. creating a directory\n",
    "    3. creating nested directory\n",
    "    4. renaming a file or directory\n",
    "    5. removing a file\n",
    "    6. listing files in a directory\n",
    "    7. getting current working directory\n",
    "    8. changing directory\n",
    "    9. removing a directory"
   ]
  },
  {
   "cell_type": "markdown",
   "id": "7ecb98ac-1c7a-42bf-9562-3f08f2a6b86c",
   "metadata": {},
   "source": [
    "## Question 23. what are yhe challenges associated with memory management in python?\n",
    "ans:- although python handles memory automatically but there are still some challenges and limitations\n",
    "\n",
    "1. garbage collection overhead\n",
    "2. circular references\n",
    "3. memory leaks\n",
    "4. fragmentation\n",
    "5. nondeterministic cleanup\n",
    "6. hidden cost of high level abstractions\n",
    "7. performance issues in multithreading"
   ]
  },
  {
   "cell_type": "markdown",
   "id": "10332916-12f9-4772-899e-5192a4d33a30",
   "metadata": {},
   "source": [
    "## Question 24. how do you raise an exception manually in python?\n",
    "ans:- in python you can manually raise an exception using th raise key word"
   ]
  },
  {
   "cell_type": "markdown",
   "id": "22286357-a3c8-49f6-88b9-4e8be2d2ba5f",
   "metadata": {},
   "source": [
    "## Question 25. what is it important to use multithreading in certain application?\n",
    "ans:-multithreading is important in python and other programming language for applications that need to do multiple tasks at onece\n",
    "\n",
    "1. improves responsiveness\n",
    "2. better resource utilization\n",
    "3. paralell i/o operation\n",
    "4. simplifies code structure\n",
    "5. ideal for real time application"
   ]
  },
  {
   "cell_type": "markdown",
   "id": "7bfdf334-30cb-40b9-b288-1e0200af356d",
   "metadata": {},
   "source": [
    " ###################################################################"
   ]
  },
  {
   "cell_type": "markdown",
   "id": "120cae5d-1bc9-441e-be30-91389ae18300",
   "metadata": {},
   "source": [
    "## PRACTICAL QUESTIONS"
   ]
  },
  {
   "cell_type": "markdown",
   "id": "88842051-b18b-44be-9115-14395cb95f05",
   "metadata": {},
   "source": [
    "## QUESTIONS 1. How can you open a file for writing in python and write a string to it?"
   ]
  },
  {
   "cell_type": "code",
   "execution_count": 22,
   "id": "2a3ab988-7c4a-4b4d-9976-81abe5d22ea0",
   "metadata": {},
   "outputs": [],
   "source": [
    "file=open('newfile1.txt','w')"
   ]
  },
  {
   "cell_type": "code",
   "execution_count": 23,
   "id": "b6b64431-4993-4f60-bcf8-55d3a3059210",
   "metadata": {},
   "outputs": [
    {
     "data": {
      "text/plain": [
       "25"
      ]
     },
     "execution_count": 23,
     "metadata": {},
     "output_type": "execute_result"
    }
   ],
   "source": [
    "file.write('this is a python programm')"
   ]
  },
  {
   "cell_type": "code",
   "execution_count": 3,
   "id": "65582847-ce62-45bc-9e78-b75ddf589c35",
   "metadata": {},
   "outputs": [],
   "source": [
    "file.close()"
   ]
  },
  {
   "cell_type": "markdown",
   "id": "32df47ed-8065-4b5a-b9d9-5bc8165a39ba",
   "metadata": {},
   "source": [
    "## Question 2. write a python programm to read the contents of a file and print each line?"
   ]
  },
  {
   "cell_type": "code",
   "execution_count": 24,
   "id": "7c1c273a-dc81-439d-8e6e-ee92a994fa08",
   "metadata": {},
   "outputs": [],
   "source": [
    "file=open('newfile1.txt','r')"
   ]
  },
  {
   "cell_type": "code",
   "execution_count": 25,
   "id": "2422c917-84d0-4356-9361-428e41e19aa1",
   "metadata": {},
   "outputs": [],
   "source": [
    "content=file.read()"
   ]
  },
  {
   "cell_type": "code",
   "execution_count": 26,
   "id": "6681ac6b-b7f4-4018-8ee4-ce339942469f",
   "metadata": {},
   "outputs": [
    {
     "name": "stdout",
     "output_type": "stream",
     "text": [
      "this is a python programm\n"
     ]
    }
   ],
   "source": [
    "print(content)"
   ]
  },
  {
   "cell_type": "markdown",
   "id": "942ab5bd-fa84-497d-a7f3-a37f27d31033",
   "metadata": {},
   "source": [
    "## Question 3. how would handle a case where the file doesnot exist while trying to open it for reading?"
   ]
  },
  {
   "cell_type": "code",
   "execution_count": null,
   "id": "561d7e3b-3f51-4d50-8151-b46b26701ed9",
   "metadata": {},
   "outputs": [],
   "source": [
    "try:\n",
    "    with open('missing_newfile1.txt,'r'):\n",
    "              content=file.read()\n",
    "    print(content)\n",
    "except file not found error:\n",
    "    print('error: the file does not exist.')"
   ]
  },
  {
   "cell_type": "code",
   "execution_count": 16,
   "id": "34b42cc2-f5d4-4e08-af40-d8b63e6acf20",
   "metadata": {},
   "outputs": [],
   "source": [
    "file.close()"
   ]
  },
  {
   "cell_type": "markdown",
   "id": "52f0bd75-0983-4a2b-88f6-af48b52c6039",
   "metadata": {},
   "source": [
    "## Question 4. write a python script that reads from one file and write its content to another file?"
   ]
  },
  {
   "cell_type": "code",
   "execution_count": 27,
   "id": "cefe5425-7d5e-4340-a934-853c49209d21",
   "metadata": {},
   "outputs": [],
   "source": [
    "file=open('newfile1.txt','r')"
   ]
  },
  {
   "cell_type": "code",
   "execution_count": 19,
   "id": "0ed63c90-31d1-4628-a62c-102ea453e10b",
   "metadata": {},
   "outputs": [],
   "source": [
    "content=file.read()"
   ]
  },
  {
   "cell_type": "code",
   "execution_count": 28,
   "id": "497fe894-a6b1-4dd6-9a7e-dbb25cf4bff6",
   "metadata": {},
   "outputs": [
    {
     "name": "stdout",
     "output_type": "stream",
     "text": [
      "this is a python programm\n"
     ]
    }
   ],
   "source": [
    "print(content)"
   ]
  },
  {
   "cell_type": "code",
   "execution_count": null,
   "id": "4d63378f-7fc8-4ef2-9c98-510129cf2cba",
   "metadata": {},
   "outputs": [],
   "source": [
    "#read from the source file\n",
    "source_file=open('newfile1.txt','r')\n",
    "destination_file=open('xfile.text','r')\n",
    "\n",
    "#write to the destination file\n",
    "with open(destination_file,'w') as dest:\n",
    "    dest.write(contents)\n",
    "print('file coppied sucessfully')"
   ]
  },
  {
   "cell_type": "markdown",
   "id": "a2bf1de6-6d3e-4748-90f5-6db1a20c342f",
   "metadata": {},
   "source": [
    "## Question 5. how would you handle and catch division by zero error in python?"
   ]
  },
  {
   "cell_type": "code",
   "execution_count": 38,
   "id": "8b3d009c-d39c-445c-a6fb-d545fb2d0aa5",
   "metadata": {},
   "outputs": [
    {
     "name": "stdout",
     "output_type": "stream",
     "text": [
      "error:division by zero is not allowed.\n"
     ]
    }
   ],
   "source": [
    "try:\n",
    "    numerator=10\n",
    "    denominator=0\n",
    "    result=numerator/denominator\n",
    "except ZeroDivisionError:\n",
    "    print('error:division by zero is not allowed.')\n",
    "else:\n",
    "    print('result:',result)"
   ]
  },
  {
   "cell_type": "markdown",
   "id": "7ee9beb5-6fed-4439-8934-41cce9bbd8d3",
   "metadata": {},
   "source": [
    "## Question 06. write a python programm that logs an error message to a log file when a division by zero exception occurs?"
   ]
  },
  {
   "cell_type": "code",
   "execution_count": 39,
   "id": "b5aa0702-0d3f-48a7-9b27-be711f639701",
   "metadata": {},
   "outputs": [
    {
     "data": {
      "text/plain": [
       "10"
      ]
     },
     "execution_count": 39,
     "metadata": {},
     "output_type": "execute_result"
    }
   ],
   "source": [
    "numerator"
   ]
  },
  {
   "cell_type": "code",
   "execution_count": 40,
   "id": "963b121e-20c2-4032-9499-8bd3db8551e8",
   "metadata": {},
   "outputs": [
    {
     "data": {
      "text/plain": [
       "0"
      ]
     },
     "execution_count": 40,
     "metadata": {},
     "output_type": "execute_result"
    }
   ],
   "source": [
    "denominator"
   ]
  },
  {
   "cell_type": "code",
   "execution_count": 50,
   "id": "0b8631d2-11bf-46a7-b594-a14a24839044",
   "metadata": {},
   "outputs": [],
   "source": [
    "def divide(x,y):\n",
    "    try:\n",
    "        return x/y\n",
    "    except zerodivisionerror as e:\n",
    "        logging.error('division by zero error:%s',e)\n",
    "        print('an error occured.check the file details')"
   ]
  },
  {
   "cell_type": "markdown",
   "id": "0647a65a-667b-495e-bbf3-67313ca8e893",
   "metadata": {},
   "source": [
    "## Question 07. how do you log information at different levels (info,error,warning) in python using the logging module?"
   ]
  },
  {
   "cell_type": "code",
   "execution_count": 54,
   "id": "d92273cb-460e-474a-8565-b36d89410a9c",
   "metadata": {},
   "outputs": [
    {
     "name": "stderr",
     "output_type": "stream",
     "text": [
      "2025-05-15 18:35:45,648 - DEBUG - This is a debug message.\n",
      "2025-05-15 18:35:45,663 - INFO - This is an informational message.\n",
      "2025-05-15 18:35:45,663 - WARNING - This is a warning message.\n",
      "2025-05-15 18:35:45,663 - ERROR - This is an error message.\n",
      "2025-05-15 18:35:45,663 - CRITICAL - This is a critical error message.\n"
     ]
    }
   ],
   "source": [
    "import logging\n",
    "\n",
    "# Configure logging\n",
    "logging.basicConfig(level=logging.DEBUG, format='%(asctime)s - %(levelname)s - %(message)s')\n",
    "\n",
    "# Log messages at various severity levels\n",
    "logging.debug(\"This is a debug message.\")\n",
    "logging.info(\"This is an informational message.\")\n",
    "logging.warning(\"This is a warning message.\")\n",
    "logging.error(\"This is an error message.\")\n",
    "logging.critical(\"This is a critical error message.\")"
   ]
  },
  {
   "cell_type": "markdown",
   "id": "45371727-9671-4af0-9997-779b3109b723",
   "metadata": {},
   "source": [
    "## Question 8. write a programm to handle a file opening error using exception handling?"
   ]
  },
  {
   "cell_type": "markdown",
   "id": "ea7adc9a-1e31-49e7-8c34-75d93ee8c39d",
   "metadata": {},
   "source": [
    "try:\n",
    "    # Attempt to open a file\n",
    "    file_name = \"example.txt\"\n",
    "    with open(file_name, 'r') as file:\n",
    "        content = file.read()\n",
    "        print(\"File content:\")\n",
    "        print(content)\n",
    "except FileNotFoundError:\n",
    "    print(f\"Error: The file '{file_name}' was not found.\")\n",
    "except PermissionError:\n",
    "    print(f\"Error: You do not have permission to access '{file_name}'.\")\n",
    "except Exception as e:\n",
    "    print(f\"An unexpected error occurred: {e}\")\n",
    "finally:\n",
    "    print(\"File handling operation completed.\")\n"
   ]
  },
  {
   "cell_type": "markdown",
   "id": "1ad66aec-815c-4d6f-985b-aaf78d92aca9",
   "metadata": {},
   "source": [
    "## Question 9. how can you read a file line by line and store its content in a list in python?"
   ]
  },
  {
   "cell_type": "code",
   "execution_count": 56,
   "id": "3e6f49fa-bb01-4ce2-b3a3-7dd5ddc56d5d",
   "metadata": {},
   "outputs": [],
   "source": [
    "with open('newfile1.txt', 'r') as file:\n",
    "    lines = [line.strip() for line in file]  # Removes trailing newline characters"
   ]
  },
  {
   "cell_type": "code",
   "execution_count": 67,
   "id": "4d92af1d-a2d6-4da1-9156-be122d2786ce",
   "metadata": {},
   "outputs": [
    {
     "name": "stdout",
     "output_type": "stream",
     "text": [
      "['this is a python programm']\n"
     ]
    }
   ],
   "source": [
    "print(lines)"
   ]
  },
  {
   "cell_type": "markdown",
   "id": "d65baabf-b9f7-4e60-9437-ddc0824e68e3",
   "metadata": {},
   "source": [
    "## Question 10.how can you append data to an existing file in python?"
   ]
  },
  {
   "cell_type": "code",
   "execution_count": 127,
   "id": "e8049cde-ed86-41e9-a5b8-a81b228fc6ec",
   "metadata": {},
   "outputs": [],
   "source": [
    "file=open(\"newfile1.txt\",\"r\")"
   ]
  },
  {
   "cell_type": "code",
   "execution_count": 128,
   "id": "d8be7e44-d577-4e53-b722-82fa5b20ef59",
   "metadata": {},
   "outputs": [],
   "source": [
    "content=file.read()"
   ]
  },
  {
   "cell_type": "code",
   "execution_count": 129,
   "id": "c9ab2b63-51a2-4300-8388-a7742055a19a",
   "metadata": {},
   "outputs": [
    {
     "name": "stdout",
     "output_type": "stream",
     "text": [
      "python is a good programming language\n"
     ]
    }
   ],
   "source": [
    "print(content)"
   ]
  },
  {
   "cell_type": "code",
   "execution_count": 130,
   "id": "6b7c4a6f-78f9-43b1-b4f4-9217f21e75e2",
   "metadata": {},
   "outputs": [],
   "source": [
    "file=open('newfile1.txt','a')"
   ]
  },
  {
   "cell_type": "code",
   "execution_count": 136,
   "id": "6875f66d-0227-47c8-a920-0e529ac28ac2",
   "metadata": {},
   "outputs": [
    {
     "ename": "UnsupportedOperation",
     "evalue": "not writable",
     "output_type": "error",
     "traceback": [
      "\u001b[1;31m---------------------------------------------------------------------------\u001b[0m",
      "\u001b[1;31mUnsupportedOperation\u001b[0m                      Traceback (most recent call last)",
      "Cell \u001b[1;32mIn[136], line 1\u001b[0m\n\u001b[1;32m----> 1\u001b[0m file\u001b[38;5;241m.\u001b[39mwrite(\u001b[38;5;124m'\u001b[39m\u001b[38;5;124mjava\u001b[39m\u001b[38;5;124m'\u001b[39m)\n\u001b[0;32m      2\u001b[0m file\u001b[38;5;241m.\u001b[39mwrite(\u001b[38;5;124m'\u001b[39m\u001b[38;5;124mdelhi\u001b[39m\u001b[38;5;124m'\u001b[39m)\n\u001b[0;32m      3\u001b[0m file\u001b[38;5;241m.\u001b[39mclose()\n",
      "\u001b[1;31mUnsupportedOperation\u001b[0m: not writable"
     ]
    }
   ],
   "source": [
    "file.write('java')\n",
    "file.write('delhi')\n",
    "file.close()"
   ]
  },
  {
   "cell_type": "code",
   "execution_count": 137,
   "id": "85f4dd81-2c29-49ec-a324-42e171a95772",
   "metadata": {},
   "outputs": [],
   "source": [
    "file=open(\"newfile1.txt\",\"r\")"
   ]
  },
  {
   "cell_type": "code",
   "execution_count": 138,
   "id": "a4557e1f-4198-4ccd-8102-538027c3b84d",
   "metadata": {},
   "outputs": [],
   "source": [
    "content=file.read()"
   ]
  },
  {
   "cell_type": "code",
   "execution_count": 139,
   "id": "53116b6c-370e-4126-858d-6cfb2b2306ab",
   "metadata": {},
   "outputs": [
    {
     "name": "stdout",
     "output_type": "stream",
     "text": [
      "python is a good programming languagejavadelhi\n"
     ]
    }
   ],
   "source": [
    "print(content)"
   ]
  },
  {
   "cell_type": "markdown",
   "id": "3cc3cb5c-3979-4439-b694-ab898eae162b",
   "metadata": {},
   "source": [
    "## Question 11.write a python programm that uses a try-except blockto handle an error when attempting to acess a dictionary key that does not exist?"
   ]
  },
  {
   "cell_type": "code",
   "execution_count": 140,
   "id": "08cd1964-2482-4dcf-b08b-de945c6f4502",
   "metadata": {},
   "outputs": [
    {
     "name": "stdout",
     "output_type": "stream",
     "text": [
      "Error: The key 'country' does not exist in the dictionary.\n"
     ]
    }
   ],
   "source": [
    "# Define a sample dictionary\n",
    "my_dict = {\"name\": \"Alice\",\"age\": 25,\"city\": \"Bhubaneswar\"}\n",
    "# Attempt to access a key that may not exist\n",
    "key_to_access = \"country\"\n",
    "\n",
    "try:\n",
    "    # Try to access the key\n",
    "    value = my_dict[key_to_access]\n",
    "    print(f\"The value for '{key_to_access}' is: {value}\")\n",
    "except KeyError:\n",
    "    # Handle the KeyError if the key does not exist\n",
    "    print(f\"Error: The key '{key_to_access}' does not exist in the dictionary.\")\n"
   ]
  },
  {
   "cell_type": "markdown",
   "id": "988a5774-6f55-4095-83b4-2856a9c732c0",
   "metadata": {},
   "source": [
    "## Question 12. write a python programm that demonstrates using multiple except blocks to handle different types of exceptions?"
   ]
  },
  {
   "cell_type": "code",
   "execution_count": null,
   "id": "a08f86c3-cf21-4f79-845c-8a7334af8bd5",
   "metadata": {},
   "outputs": [],
   "source": [
    "def demonstrate_exceptions():\n",
    "    try:\n",
    "        # Prompt user for input\n",
    "        num1 = int(input(\"10: \"))\n",
    "        num2 = int(input(\"5: \"))\n",
    "        \n",
    "        # Perform division\n",
    "        result = num1 / num2\n",
    "        print(f\"The result of division is: {result}\")\n",
    "        \n",
    "        # Access an element in a list\n",
    "        sample_list = [10, 20, 30]\n",
    "        index = int(input(\"Enter an index to access the list: \"))\n",
    "        print(f\"Element at index {index}: {sample_list[index]}\")\n",
    "    \n",
    "    except ValueError:\n",
    "        print(\"Oops! You entered an invalid number. Please enter integers only.\")\n",
    "    \n",
    "    except ZeroDivisionError:\n",
    "        print(\"Error: Division by zero is not allowed.\")\n",
    "    \n",
    "    except IndexError:\n",
    "        print(\"Error: The index you entered is out of range.\")\n",
    "    \n",
    "    except Exception as e:\n",
    "        print(f\"An unexpected error occurred: {e}\")\n",
    "\n",
    "# Run the function\n",
    "demonstrate_exceptions()\n"
   ]
  },
  {
   "cell_type": "code",
   "execution_count": null,
   "id": "1a67ca52-ade9-428f-bc57-8ed913428e21",
   "metadata": {},
   "outputs": [],
   "source": []
  },
  {
   "cell_type": "markdown",
   "id": "402ab63a-6c1c-462c-a69b-270cd9b64879",
   "metadata": {},
   "source": [
    "## Question 13.how would you check if a file exists before attempting to read it in python?"
   ]
  },
  {
   "cell_type": "code",
   "execution_count": null,
   "id": "0a56d48c-cee4-431a-ba73-d54d59ec1bd5",
   "metadata": {},
   "outputs": [],
   "source": [
    "from pathlib import Path\n",
    "\n",
    "file_path = Path(\"newfile1.txt\")\n",
    "\n",
    "if file_path.exists():\n",
    "    with file_path.open(\"r\") as file:\n",
    "        content = file.read()\n",
    "        print(content)\n",
    "else:\n",
    "    print(\"File does not exist.\")"
   ]
  },
  {
   "cell_type": "markdown",
   "id": "b5ea91d0-96c8-4ea4-8653-5d4a38071c02",
   "metadata": {},
   "source": [
    "## Question 14. write a programm that uses the logging module to log both informational and error messages?"
   ]
  },
  {
   "cell_type": "code",
   "execution_count": null,
   "id": "fbd8da92-c9f0-45bb-891a-25c308929dff",
   "metadata": {},
   "outputs": [],
   "source": [
    "import logging\n",
    "\n",
    "# Configure the logging settings\n",
    "logging.basicConfig(\n",
    "    level=logging.DEBUG,  # Set the logging level to DEBUG to capture all messages\n",
    "    format='%(asctime)s - %(levelname)s - %(message)s',  # Define the log message format\n",
    "    filename='app.log',  # Log messages will be saved to this file\n",
    "    filemode='w'  # Overwrite the log file each time the program runs\n",
    ")\n",
    "\n",
    "# Example function to demonstrate logging\n",
    "def divide_numbers(a, b):\n",
    "    try:\n",
    "        logging.info(f\"Attempting to divide {a} by {b}.\")  # Log an informational message\n",
    "        result = a / b\n",
    "        logging.info(f\"Division successful. Result: {result}\")  # Log the result\n",
    "        return result\n",
    "    except ZeroDivisionError as e:\n",
    "        logging.error(\"Error: Division by zero is not allowed.\", exc_info=True)  # Log the error with traceback\n",
    "        return None\n",
    "    except Exception as e:\n",
    "        logging.error(f\"An unexpected error occurred: {e}\", exc_info=True)  # Log any other unexpected errors\n",
    "        return None\n",
    "\n",
    "# Main program\n",
    "if __name__ == \"__main__\":\n",
    "    logging.info(\"Program started.\")  # Log the start of the program\n",
    "\n",
    "    # Test cases\n",
    "    divide_numbers(10, 2)  # Successful division\n",
    "    divide_numbers(10, 0)  # Division by zero\n",
    "    divide_numbers(\"10\", 2)  # Invalid input\n",
    "\n",
    "    logging.info(\"Program ended.\")  # Log the end of the program\n"
   ]
  },
  {
   "cell_type": "markdown",
   "id": "9cd746d3-6040-4f24-98ce-3f475e247421",
   "metadata": {},
   "source": [
    "## Questions 15.write a python programm that prints the content of a file and handles a case when the file is empty?"
   ]
  },
  {
   "cell_type": "code",
   "execution_count": null,
   "id": "e7efbaa2-3ef6-49ae-9ba4-d785a8cf9de2",
   "metadata": {},
   "outputs": [],
   "source": [
    "file_path = input(\"Enter the file path: \")\n",
    "print_file_content(file_path)"
   ]
  },
  {
   "cell_type": "markdown",
   "id": "32c35eaa-ff15-4192-a3b6-6e5600dbf283",
   "metadata": {},
   "source": [
    "## Questions 17. write a python programm to create and write a list of numbers to a file , one number per line?"
   ]
  },
  {
   "cell_type": "code",
   "execution_count": null,
   "id": "dec60925-ff4f-49ac-8eab-d39fe5fb695f",
   "metadata": {},
   "outputs": [],
   "source": [
    "l1=[1, 2, 3, 4, 5, 6]"
   ]
  },
  {
   "cell_type": "code",
   "execution_count": null,
   "id": "57423fe0-d1d6-43ad-bf17-2e4979fbd92d",
   "metadata": {},
   "outputs": [],
   "source": [
    "file_name=\"numbers.txt\""
   ]
  },
  {
   "cell_type": "code",
   "execution_count": null,
   "id": "63e43f8a-3a58-41ae-95e3-a4a5c69cb387",
   "metadata": {},
   "outputs": [],
   "source": [
    "with open('numbers.txt','w') as file:\n",
    "    for numbers in numbers:\n",
    "        file.write(f'{number}\\n')\n",
    "\n",
    "print(f'numbers have been written to {'numbers.txt'}"
   ]
  },
  {
   "cell_type": "markdown",
   "id": "c3182ef9-891c-444c-b88e-ee5769e9ef46",
   "metadata": {},
   "source": [
    "## Question 19. write a programm that handles both index error and key error using a try-except block?"
   ]
  },
  {
   "cell_type": "code",
   "execution_count": null,
   "id": "86e11629-8363-4dab-8ca4-ebb2f3f2ebb0",
   "metadata": {},
   "outputs": [],
   "source": [
    "def handle_errors():\n",
    "    my_list = [10, 20, 30]\n",
    "    my_dict = {\"a\": 1, \"b\": 2, \"c\": 3}\n",
    "\n",
    "    try:\n",
    "        # Attempt to access an out-of-range index in the list\n",
    "        print(\"List element:\", my_list[5])\n",
    "        \n",
    "        # Attempt to access a non-existent key in the dictionary\n",
    "        print(\"Dictionary value:\", my_dict[\"z\"])\n",
    "    \n",
    "    except IndexError:\n",
    "        print(\"IndexError: Tried to access an index that doesn't exist in the list.\")\n",
    "    \n",
    "    except KeyError:\n",
    "        print(\"KeyError: Tried to access a key that doesn't exist in the dictionary.\")\n",
    "\n",
    "# Call the function\n",
    "handle_errors()\n"
   ]
  },
  {
   "cell_type": "markdown",
   "id": "47b8e919-88c8-4873-ae91-397bf89ae7b6",
   "metadata": {},
   "source": [
    "## Question 20. how would you open a file and reads its contents using a context manager in python?"
   ]
  },
  {
   "cell_type": "code",
   "execution_count": null,
   "id": "5ab067dd-0513-4822-aba2-c6970aa743ff",
   "metadata": {},
   "outputs": [],
   "source": [
    "file_path = \"newfile1.txt\"\n",
    "\n",
    "with open(file_path, \"r\") as file:\n",
    "    contents = file.read()\n",
    "\n",
    "print(contents)"
   ]
  },
  {
   "cell_type": "markdown",
   "id": "80f0e956-f392-4862-8410-b48bcb1d8a46",
   "metadata": {},
   "source": [
    "## Question 21. write a python programm that reads a file and prints the number of occurrences of a specific word?"
   ]
  },
  {
   "cell_type": "code",
   "execution_count": null,
   "id": "f8b31f6b-66a3-462d-b06d-fac918fdfa1f",
   "metadata": {},
   "outputs": [],
   "source": [
    "def count_word_occurrences(file_path, target_word):\n",
    "    try:\n",
    "        with open(file_path, 'r', encoding='utf-8') as file:\n",
    "            content = file.read()\n",
    "            # Normalize case and split into words\n",
    "            words = content.lower().split()\n",
    "            target_word = target_word.lower()\n",
    "            count = words.count(target_word)\n",
    "            print(f\"The word '{target_word}' occurs {count} times in the file.\")\n",
    "    except FileNotFoundError:\n",
    "        print(\"Error: The file was not found.\")\n",
    "    except Exception as e:\n",
    "        print(f\"An error occurred: {e}\")\n",
    "\n",
    "# Example usage\n",
    "file_path = input(\"Enter the file path: \")\n",
    "target_word = input(\"Enter the word to count: \")\n",
    "count_word_occurrences(file_path, target_word)\n"
   ]
  },
  {
   "cell_type": "markdown",
   "id": "f1e44b11-59a2-4236-ae71-e0e725bcbbc6",
   "metadata": {},
   "source": [
    "## Question 22. how can you check if a file is empty before attempting to reads its contents?"
   ]
  },
  {
   "cell_type": "code",
   "execution_count": null,
   "id": "f53df1df-523a-48a3-8b33-da8599d984b6",
   "metadata": {},
   "outputs": [],
   "source": [
    "how can you check if a file is empty before attempting to reads its contents?"
   ]
  },
  {
   "cell_type": "code",
   "execution_count": null,
   "id": "30c564f3-5c21-4f27-8192-322d015815d3",
   "metadata": {},
   "outputs": [],
   "source": [
    "import os"
   ]
  },
  {
   "cell_type": "code",
   "execution_count": null,
   "id": "3e1066ac-3f0b-4f17-b3bf-daffb556f097",
   "metadata": {},
   "outputs": [],
   "source": [
    "os.stat(\"newfile1.txt\").st_size == 0\n",
    "True"
   ]
  },
  {
   "cell_type": "markdown",
   "id": "c7e37c6b-1792-4f82-b4e2-27a0a5e88383",
   "metadata": {},
   "source": [
    "## Question 23. write a python programm that writes to a log file when an error occurs during file handling?"
   ]
  },
  {
   "cell_type": "code",
   "execution_count": null,
   "id": "e83f4ce8-035c-4f54-9715-adddd06d0097",
   "metadata": {},
   "outputs": [],
   "source": [
    "import logging\n",
    "\n",
    "# Configure logging\n",
    "logging.basicConfig(\n",
    "    filename='error_log.txt',  # Log file name\n",
    "    level=logging.ERROR,       # Log level\n",
    "    format='%(asctime)s - %(levelname)s - %(message)s'\n",
    ")\n",
    "\n",
    "def handle_file_operations():\n",
    "    try:\n",
    "        # Example: Attempt to open a non-existent file\n",
    "        with open('non_existent_file.txt', 'r') as file:\n",
    "            content = file.read()\n",
    "            print(content)\n",
    "    except FileNotFoundError as e:\n",
    "        logging.error(f\"File not found: {e}\")\n",
    "        print(\"An error occurred: File not found. Check the log file for details.\")\n",
    "    except Exception as e:\n",
    "        logging.error(f\"An unexpected error occurred: {e}\")\n",
    "        print(\"An unexpected error occurred. Check the log file for details.\")\n",
    "\n",
    "if __name__ == \"__main__\":\n",
    "    handle_file_operations()\n"
   ]
  },
  {
   "cell_type": "code",
   "execution_count": null,
   "id": "4b89ae98-1d31-4828-883f-2da2ee322e92",
   "metadata": {},
   "outputs": [],
   "source": []
  },
  {
   "cell_type": "code",
   "execution_count": null,
   "id": "0e2e46fd-0c43-45a7-a531-f80efaf4e29d",
   "metadata": {},
   "outputs": [],
   "source": []
  },
  {
   "cell_type": "code",
   "execution_count": null,
   "id": "57aba039-f8b8-4876-ace4-23c0f9c2c6a7",
   "metadata": {},
   "outputs": [],
   "source": []
  }
 ],
 "metadata": {
  "kernelspec": {
   "display_name": "Python 3 (ipykernel)",
   "language": "python",
   "name": "python3"
  },
  "language_info": {
   "codemirror_mode": {
    "name": "ipython",
    "version": 3
   },
   "file_extension": ".py",
   "mimetype": "text/x-python",
   "name": "python",
   "nbconvert_exporter": "python",
   "pygments_lexer": "ipython3",
   "version": "3.12.7"
  }
 },
 "nbformat": 4,
 "nbformat_minor": 5
}
